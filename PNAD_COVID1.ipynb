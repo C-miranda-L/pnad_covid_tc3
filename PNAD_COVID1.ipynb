{
 "cells": [
  {
   "cell_type": "raw",
   "id": "548e01b4",
   "metadata": {},
   "source": [
    "!pip install psycopg2"
   ]
  },
  {
   "cell_type": "code",
   "execution_count": 1,
   "id": "6fd38293",
   "metadata": {},
   "outputs": [],
   "source": [
    "import numpy as np\n",
    "import matplotlib.pyplot as plt\n",
    "import seaborn as sns\n",
    "from scipy import stats\n",
    "from datetime import date, time, datetime, timedelta"
   ]
  },
  {
   "cell_type": "code",
   "execution_count": 2,
   "id": "febea9d3",
   "metadata": {},
   "outputs": [],
   "source": [
    "import pandas as pd\n",
    "import pandas.io.sql as sqlio\n",
    "import psycopg2 as ps"
   ]
  },
  {
   "cell_type": "code",
   "execution_count": 3,
   "id": "28e9df1a",
   "metadata": {},
   "outputs": [],
   "source": [
    "import warnings\n",
    "warnings.filterwarnings(\"ignore\")"
   ]
  },
  {
   "cell_type": "markdown",
   "id": "a27f6772",
   "metadata": {
    "slideshow": {
     "slide_type": "-"
    }
   },
   "source": [
    "## Parte 1 - Organização DB"
   ]
  },
  {
   "cell_type": "code",
   "execution_count": 4,
   "id": "31346b8b",
   "metadata": {},
   "outputs": [],
   "source": [
    "conn = ps.connect(dbname = 'postgres',\n",
    "                  user = 'postgres',\n",
    "                  password = 'tc3',\n",
    "                  host = 'localhost',\n",
    "                  port = '5432' \n",
    "                  )"
   ]
  },
  {
   "cell_type": "code",
   "execution_count": 5,
   "id": "9f59e7e1",
   "metadata": {},
   "outputs": [],
   "source": [
    "sql = \"\"\"\n",
    "SELECT * FROM dbo.pnad_covid\n",
    "\"\"\""
   ]
  },
  {
   "cell_type": "code",
   "execution_count": 6,
   "id": "4c842bed",
   "metadata": {},
   "outputs": [],
   "source": [
    "df = sqlio.read_sql_query(sql,conn)"
   ]
  },
  {
   "cell_type": "code",
   "execution_count": 7,
   "id": "4b43d793",
   "metadata": {
    "scrolled": true
   },
   "outputs": [
    {
     "data": {
      "text/html": [
       "<div>\n",
       "<style scoped>\n",
       "    .dataframe tbody tr th:only-of-type {\n",
       "        vertical-align: middle;\n",
       "    }\n",
       "\n",
       "    .dataframe tbody tr th {\n",
       "        vertical-align: top;\n",
       "    }\n",
       "\n",
       "    .dataframe thead th {\n",
       "        text-align: right;\n",
       "    }\n",
       "</style>\n",
       "<table border=\"1\" class=\"dataframe\">\n",
       "  <thead>\n",
       "    <tr style=\"text-align: right;\">\n",
       "      <th></th>\n",
       "      <th>uf</th>\n",
       "      <th>idade</th>\n",
       "      <th>sexo</th>\n",
       "      <th>cor_raca</th>\n",
       "      <th>sin_febre</th>\n",
       "      <th>sin_tosse</th>\n",
       "      <th>sin_dor_garganta</th>\n",
       "      <th>sin_dific_respirar</th>\n",
       "      <th>sin_dor_cabeca</th>\n",
       "      <th>si_dor_peito</th>\n",
       "      <th>sin_nausea</th>\n",
       "      <th>sin_nariz_entup</th>\n",
       "      <th>sin_fadiga</th>\n",
       "      <th>sin_perda_olf</th>\n",
       "      <th>sin_dor_muscular</th>\n",
       "      <th>resultado_teste</th>\n",
       "      <th>fez_isolamento</th>\n",
       "      <th>procurou_unid_saude</th>\n",
       "      <th>recebeu_aux</th>\n",
       "      <th>faixa_rendimento</th>\n",
       "    </tr>\n",
       "  </thead>\n",
       "  <tbody>\n",
       "    <tr>\n",
       "      <th>0</th>\n",
       "      <td>11</td>\n",
       "      <td>36</td>\n",
       "      <td>1</td>\n",
       "      <td>4</td>\n",
       "      <td>2</td>\n",
       "      <td>2</td>\n",
       "      <td>2</td>\n",
       "      <td>2</td>\n",
       "      <td>2</td>\n",
       "      <td>2</td>\n",
       "      <td>2</td>\n",
       "      <td>2</td>\n",
       "      <td>2</td>\n",
       "      <td>2</td>\n",
       "      <td>2</td>\n",
       "      <td>NaN</td>\n",
       "      <td>2</td>\n",
       "      <td>NaN</td>\n",
       "      <td>1</td>\n",
       "      <td>4.0</td>\n",
       "    </tr>\n",
       "    <tr>\n",
       "      <th>1</th>\n",
       "      <td>11</td>\n",
       "      <td>30</td>\n",
       "      <td>2</td>\n",
       "      <td>4</td>\n",
       "      <td>2</td>\n",
       "      <td>2</td>\n",
       "      <td>2</td>\n",
       "      <td>2</td>\n",
       "      <td>2</td>\n",
       "      <td>2</td>\n",
       "      <td>2</td>\n",
       "      <td>2</td>\n",
       "      <td>2</td>\n",
       "      <td>2</td>\n",
       "      <td>2</td>\n",
       "      <td>NaN</td>\n",
       "      <td>2</td>\n",
       "      <td>NaN</td>\n",
       "      <td>1</td>\n",
       "      <td>4.0</td>\n",
       "    </tr>\n",
       "    <tr>\n",
       "      <th>2</th>\n",
       "      <td>11</td>\n",
       "      <td>13</td>\n",
       "      <td>1</td>\n",
       "      <td>4</td>\n",
       "      <td>2</td>\n",
       "      <td>2</td>\n",
       "      <td>2</td>\n",
       "      <td>2</td>\n",
       "      <td>2</td>\n",
       "      <td>2</td>\n",
       "      <td>2</td>\n",
       "      <td>2</td>\n",
       "      <td>2</td>\n",
       "      <td>2</td>\n",
       "      <td>2</td>\n",
       "      <td>NaN</td>\n",
       "      <td>4</td>\n",
       "      <td>NaN</td>\n",
       "      <td>1</td>\n",
       "      <td>NaN</td>\n",
       "    </tr>\n",
       "    <tr>\n",
       "      <th>3</th>\n",
       "      <td>11</td>\n",
       "      <td>11</td>\n",
       "      <td>1</td>\n",
       "      <td>4</td>\n",
       "      <td>2</td>\n",
       "      <td>2</td>\n",
       "      <td>2</td>\n",
       "      <td>2</td>\n",
       "      <td>2</td>\n",
       "      <td>2</td>\n",
       "      <td>2</td>\n",
       "      <td>2</td>\n",
       "      <td>2</td>\n",
       "      <td>2</td>\n",
       "      <td>2</td>\n",
       "      <td>NaN</td>\n",
       "      <td>4</td>\n",
       "      <td>NaN</td>\n",
       "      <td>1</td>\n",
       "      <td>NaN</td>\n",
       "    </tr>\n",
       "    <tr>\n",
       "      <th>4</th>\n",
       "      <td>11</td>\n",
       "      <td>57</td>\n",
       "      <td>2</td>\n",
       "      <td>1</td>\n",
       "      <td>2</td>\n",
       "      <td>2</td>\n",
       "      <td>2</td>\n",
       "      <td>2</td>\n",
       "      <td>2</td>\n",
       "      <td>2</td>\n",
       "      <td>2</td>\n",
       "      <td>2</td>\n",
       "      <td>2</td>\n",
       "      <td>2</td>\n",
       "      <td>2</td>\n",
       "      <td>NaN</td>\n",
       "      <td>2</td>\n",
       "      <td>NaN</td>\n",
       "      <td>2</td>\n",
       "      <td>NaN</td>\n",
       "    </tr>\n",
       "  </tbody>\n",
       "</table>\n",
       "</div>"
      ],
      "text/plain": [
       "   uf  idade  sexo  cor_raca  sin_febre  sin_tosse  sin_dor_garganta  \\\n",
       "0  11     36     1         4          2          2                 2   \n",
       "1  11     30     2         4          2          2                 2   \n",
       "2  11     13     1         4          2          2                 2   \n",
       "3  11     11     1         4          2          2                 2   \n",
       "4  11     57     2         1          2          2                 2   \n",
       "\n",
       "   sin_dific_respirar  sin_dor_cabeca  si_dor_peito  sin_nausea  \\\n",
       "0                   2               2             2           2   \n",
       "1                   2               2             2           2   \n",
       "2                   2               2             2           2   \n",
       "3                   2               2             2           2   \n",
       "4                   2               2             2           2   \n",
       "\n",
       "   sin_nariz_entup  sin_fadiga  sin_perda_olf  sin_dor_muscular  \\\n",
       "0                2           2              2                 2   \n",
       "1                2           2              2                 2   \n",
       "2                2           2              2                 2   \n",
       "3                2           2              2                 2   \n",
       "4                2           2              2                 2   \n",
       "\n",
       "   resultado_teste  fez_isolamento  procurou_unid_saude  recebeu_aux  \\\n",
       "0              NaN               2                  NaN            1   \n",
       "1              NaN               2                  NaN            1   \n",
       "2              NaN               4                  NaN            1   \n",
       "3              NaN               4                  NaN            1   \n",
       "4              NaN               2                  NaN            2   \n",
       "\n",
       "   faixa_rendimento  \n",
       "0               4.0  \n",
       "1               4.0  \n",
       "2               NaN  \n",
       "3               NaN  \n",
       "4               NaN  "
      ]
     },
     "execution_count": 7,
     "metadata": {},
     "output_type": "execute_result"
    }
   ],
   "source": [
    "df.head()"
   ]
  },
  {
   "cell_type": "code",
   "execution_count": 8,
   "id": "5d3cd2a9",
   "metadata": {},
   "outputs": [
    {
     "data": {
      "text/plain": [
       "uf                           0\n",
       "idade                        0\n",
       "sexo                         0\n",
       "cor_raca                     0\n",
       "sin_febre                    0\n",
       "sin_tosse                    0\n",
       "sin_dor_garganta             0\n",
       "sin_dific_respirar           0\n",
       "sin_dor_cabeca               0\n",
       "si_dor_peito                 0\n",
       "sin_nausea                   0\n",
       "sin_nariz_entup              0\n",
       "sin_fadiga                   0\n",
       "sin_perda_olf                0\n",
       "sin_dor_muscular             0\n",
       "resultado_teste        1098266\n",
       "fez_isolamento               0\n",
       "procurou_unid_saude    1104247\n",
       "recebeu_aux                  0\n",
       "faixa_rendimento        726288\n",
       "dtype: int64"
      ]
     },
     "execution_count": 8,
     "metadata": {},
     "output_type": "execute_result"
    }
   ],
   "source": [
    "df.isnull().sum()"
   ]
  },
  {
   "cell_type": "code",
   "execution_count": 9,
   "id": "fe2f1ced",
   "metadata": {},
   "outputs": [],
   "source": [
    "uf_dict = {\n",
    "    11: \"Rondônia\",\n",
    "    12: \"Acre\",\n",
    "    13: \"Amazonas\",\n",
    "    14: \"Roraima\",\n",
    "    15: \"Pará\",\n",
    "    16: \"Amapá\",\n",
    "    17: \"Tocantins\",\n",
    "    21: \"Maranhão\",\n",
    "    22: \"Piauí\",\n",
    "    23: \"Ceará\",\n",
    "    24: \"Rio Grande do Norte\",\n",
    "    25: \"Paraíba\",\n",
    "    26: \"Pernambuco\",\n",
    "    27: \"Alagoas\",\n",
    "    28: \"Sergipe\",\n",
    "    29: \"Bahia\",\n",
    "    31: \"Minas Gerais\",\n",
    "    32: \"Espírito Santo\",\n",
    "    33: \"Rio de Janeiro\",\n",
    "    35: \"São Paulo\",\n",
    "    41: \"Paraná\",\n",
    "    42: \"Santa Catarina\",\n",
    "    43: \"Rio Grande do Sul\",\n",
    "    50: \"Mato Grosso do Sul\",\n",
    "    51: \"Mato Grosso\",\n",
    "    52: \"Goiás\",\n",
    "    53: \"Distrito Federal\"\n",
    "}\n",
    "\n",
    "uf_regiao_dict_id = {\n",
    "    11: \"Norte\",\n",
    "    12: \"Norte\",\n",
    "    13: \"Norte\",\n",
    "    14: \"Norte\",\n",
    "    15: \"Norte\",\n",
    "    16: \"Norte\",\n",
    "    17: \"Norte\",\n",
    "    21: \"Nordeste\",\n",
    "    22: \"Nordeste\",\n",
    "    23: \"Nordeste\",\n",
    "    24: \"Nordeste\",\n",
    "    25: \"Nordeste\",\n",
    "    26: \"Nordeste\",\n",
    "    27: \"Nordeste\",\n",
    "    28: \"Nordeste\",\n",
    "    29: \"Nordeste\",\n",
    "    31: \"Sudeste\",\n",
    "    32: \"Sudeste\",\n",
    "    33: \"Sudeste\",\n",
    "    35: \"Sudeste\",\n",
    "    41: \"Sul\",\n",
    "    42: \"Sul\",\n",
    "    43: \"Sul\",\n",
    "    50: \"Centro-Oeste\",\n",
    "    51: \"Centro-Oeste\",\n",
    "    52: \"Centro-Oeste\",\n",
    "    53: \"Centro-Oeste\"\n",
    "}\n",
    "\n",
    "\n",
    "uf_regiao_dict_sigla = {\n",
    "    'AC': 'Norte',\n",
    "    'AL': 'Nordeste',\n",
    "    'AP': 'Norte',\n",
    "    'AM': 'Norte',\n",
    "    'BA': 'Nordeste',\n",
    "    'CE': 'Nordeste',\n",
    "    'DF': 'Centro-Oeste',\n",
    "    'ES': 'Sudeste',\n",
    "    'GO': 'Centro-Oeste',\n",
    "    'MA': 'Nordeste',\n",
    "    'MT': 'Centro-Oeste',\n",
    "    'MS': 'Centro-Oeste',\n",
    "    'MG': 'Sudeste',\n",
    "    'PA': 'Norte',\n",
    "    'PB': 'Nordeste',\n",
    "    'PR': 'Sul',\n",
    "    'PE': 'Nordeste',\n",
    "    'PI': 'Nordeste',\n",
    "    'RJ': 'Sudeste',\n",
    "    'RN': 'Nordeste',\n",
    "    'RS': 'Sul',\n",
    "    'RO': 'Norte',\n",
    "    'RR': 'Norte',\n",
    "    'SC': 'Sul',\n",
    "    'SP': 'Sudeste',\n",
    "    'SE': 'Nordeste',\n",
    "    'TO': 'Norte'\n",
    "}"
   ]
  },
  {
   "cell_type": "code",
   "execution_count": 10,
   "id": "5f4ee41e",
   "metadata": {},
   "outputs": [],
   "source": [
    "sexo_dict = {\n",
    "    1: \"Homem\",\n",
    "    2: \"Mulher\"\n",
    "}\n",
    "\n",
    "\n",
    "cor_raca_dict = {\n",
    "    1: \"Branca\",\n",
    "    2: \"Preta\",\n",
    "    3: \"Amarela\",\n",
    "    4: \"Parda\",\n",
    "    5: \"Indígena\",\n",
    "    9: \"Ignorado\"\n",
    "}"
   ]
  },
  {
   "cell_type": "code",
   "execution_count": 11,
   "id": "dd9b0828",
   "metadata": {},
   "outputs": [],
   "source": [
    "sintomas_dict = {\n",
    "    1: \"Sim\",\n",
    "    2: \"Não\",\n",
    "    3: \"Não sabe\",\n",
    "    9: \"Ignorado\"\n",
    "}"
   ]
  },
  {
   "cell_type": "code",
   "execution_count": 12,
   "id": "4f95a94a",
   "metadata": {},
   "outputs": [],
   "source": [
    "teste_coronavirus_dict = {\n",
    "    1: \"Positivo\",\n",
    "    2: \"Negativo\",\n",
    "    3: \"Inconclusivo\",\n",
    "    4: \"Ainda não recebeu o resultado\",\n",
    "    9: \"Ignorado\",\n",
    "\t\tNone: None\n",
    "}"
   ]
  },
  {
   "cell_type": "code",
   "execution_count": 13,
   "id": "d8175912",
   "metadata": {},
   "outputs": [],
   "source": [
    "fez_isolamento_dict = {\n",
    "    1: \"Não fez restrição, levou vida normal como antes da pandemia\",\n",
    "    2: \"Reduziu o contato com as pessoas, mas continuou saindo de casa para trabalho ou atividades não essenciais e/ou recebendo visitas\",\n",
    "    3: \"Ficou em casa e só saiu em caso de necessidade básica\",\n",
    "    4: \"Ficou rigorosamente em casa\",\n",
    "    9: \"Ignorado\"\n",
    "}\n",
    "\n",
    "fez_isolamento_dict_v2 = {\n",
    "    1: \"Não\",\n",
    "    2: \"Moderado\",\n",
    "    3: \"Sim\",\n",
    "    4: \"Totalmente\",\n",
    "    9: \"Ignorado\"\n",
    "}"
   ]
  },
  {
   "cell_type": "code",
   "execution_count": 14,
   "id": "15d79391",
   "metadata": {},
   "outputs": [],
   "source": [
    "procurou_unid_saude_dict = {\n",
    "    1: \"Sim\",\n",
    "    2: \"Não\",\n",
    "    9: \"Ignorado\",\n",
    "    None: None\n",
    "}"
   ]
  },
  {
   "cell_type": "code",
   "execution_count": 15,
   "id": "157693f4",
   "metadata": {},
   "outputs": [],
   "source": [
    "recebeu_aux_dict = {\n",
    "    1: \"Sim\",\n",
    "    2: \"Não\"\n",
    "}"
   ]
  },
  {
   "cell_type": "code",
   "execution_count": 16,
   "id": "11d055b0",
   "metadata": {},
   "outputs": [],
   "source": [
    "faixa_rendimento_dict = {\n",
    "    0: '0 - 100',\n",
    "    1: '101 - 300',\n",
    "    2: '301 - 600',\n",
    "    3: '601 - 800',\n",
    "    4: '801 - 1.600',\n",
    "    5: '1.601 - 3.000',\n",
    "    6: '3.001 - 10.000',\n",
    "    7: '10.001 - 50.000',\n",
    "    8: '50.001 - 100.000',\n",
    "    9: '+100.000',\n",
    "    \"NAN\": None\n",
    "}"
   ]
  },
  {
   "cell_type": "code",
   "execution_count": 17,
   "id": "3479cf9b",
   "metadata": {},
   "outputs": [],
   "source": [
    "df_trabalho = df.copy()"
   ]
  },
  {
   "cell_type": "code",
   "execution_count": 18,
   "id": "a373e477",
   "metadata": {},
   "outputs": [
    {
     "data": {
      "text/html": [
       "<div>\n",
       "<style scoped>\n",
       "    .dataframe tbody tr th:only-of-type {\n",
       "        vertical-align: middle;\n",
       "    }\n",
       "\n",
       "    .dataframe tbody tr th {\n",
       "        vertical-align: top;\n",
       "    }\n",
       "\n",
       "    .dataframe thead th {\n",
       "        text-align: right;\n",
       "    }\n",
       "</style>\n",
       "<table border=\"1\" class=\"dataframe\">\n",
       "  <thead>\n",
       "    <tr style=\"text-align: right;\">\n",
       "      <th></th>\n",
       "      <th>uf</th>\n",
       "      <th>idade</th>\n",
       "      <th>sexo</th>\n",
       "      <th>cor_raca</th>\n",
       "      <th>sin_febre</th>\n",
       "      <th>sin_tosse</th>\n",
       "      <th>sin_dor_garganta</th>\n",
       "      <th>sin_dific_respirar</th>\n",
       "      <th>sin_dor_cabeca</th>\n",
       "      <th>si_dor_peito</th>\n",
       "      <th>sin_nausea</th>\n",
       "      <th>sin_nariz_entup</th>\n",
       "      <th>sin_fadiga</th>\n",
       "      <th>sin_perda_olf</th>\n",
       "      <th>sin_dor_muscular</th>\n",
       "      <th>resultado_teste</th>\n",
       "      <th>fez_isolamento</th>\n",
       "      <th>procurou_unid_saude</th>\n",
       "      <th>recebeu_aux</th>\n",
       "      <th>faixa_rendimento</th>\n",
       "    </tr>\n",
       "  </thead>\n",
       "  <tbody>\n",
       "    <tr>\n",
       "      <th>0</th>\n",
       "      <td>11</td>\n",
       "      <td>36</td>\n",
       "      <td>1</td>\n",
       "      <td>4</td>\n",
       "      <td>2</td>\n",
       "      <td>2</td>\n",
       "      <td>2</td>\n",
       "      <td>2</td>\n",
       "      <td>2</td>\n",
       "      <td>2</td>\n",
       "      <td>2</td>\n",
       "      <td>2</td>\n",
       "      <td>2</td>\n",
       "      <td>2</td>\n",
       "      <td>2</td>\n",
       "      <td>NaN</td>\n",
       "      <td>2</td>\n",
       "      <td>NaN</td>\n",
       "      <td>1</td>\n",
       "      <td>4.0</td>\n",
       "    </tr>\n",
       "    <tr>\n",
       "      <th>1</th>\n",
       "      <td>11</td>\n",
       "      <td>30</td>\n",
       "      <td>2</td>\n",
       "      <td>4</td>\n",
       "      <td>2</td>\n",
       "      <td>2</td>\n",
       "      <td>2</td>\n",
       "      <td>2</td>\n",
       "      <td>2</td>\n",
       "      <td>2</td>\n",
       "      <td>2</td>\n",
       "      <td>2</td>\n",
       "      <td>2</td>\n",
       "      <td>2</td>\n",
       "      <td>2</td>\n",
       "      <td>NaN</td>\n",
       "      <td>2</td>\n",
       "      <td>NaN</td>\n",
       "      <td>1</td>\n",
       "      <td>4.0</td>\n",
       "    </tr>\n",
       "    <tr>\n",
       "      <th>2</th>\n",
       "      <td>11</td>\n",
       "      <td>13</td>\n",
       "      <td>1</td>\n",
       "      <td>4</td>\n",
       "      <td>2</td>\n",
       "      <td>2</td>\n",
       "      <td>2</td>\n",
       "      <td>2</td>\n",
       "      <td>2</td>\n",
       "      <td>2</td>\n",
       "      <td>2</td>\n",
       "      <td>2</td>\n",
       "      <td>2</td>\n",
       "      <td>2</td>\n",
       "      <td>2</td>\n",
       "      <td>NaN</td>\n",
       "      <td>4</td>\n",
       "      <td>NaN</td>\n",
       "      <td>1</td>\n",
       "      <td>NaN</td>\n",
       "    </tr>\n",
       "    <tr>\n",
       "      <th>3</th>\n",
       "      <td>11</td>\n",
       "      <td>11</td>\n",
       "      <td>1</td>\n",
       "      <td>4</td>\n",
       "      <td>2</td>\n",
       "      <td>2</td>\n",
       "      <td>2</td>\n",
       "      <td>2</td>\n",
       "      <td>2</td>\n",
       "      <td>2</td>\n",
       "      <td>2</td>\n",
       "      <td>2</td>\n",
       "      <td>2</td>\n",
       "      <td>2</td>\n",
       "      <td>2</td>\n",
       "      <td>NaN</td>\n",
       "      <td>4</td>\n",
       "      <td>NaN</td>\n",
       "      <td>1</td>\n",
       "      <td>NaN</td>\n",
       "    </tr>\n",
       "    <tr>\n",
       "      <th>4</th>\n",
       "      <td>11</td>\n",
       "      <td>57</td>\n",
       "      <td>2</td>\n",
       "      <td>1</td>\n",
       "      <td>2</td>\n",
       "      <td>2</td>\n",
       "      <td>2</td>\n",
       "      <td>2</td>\n",
       "      <td>2</td>\n",
       "      <td>2</td>\n",
       "      <td>2</td>\n",
       "      <td>2</td>\n",
       "      <td>2</td>\n",
       "      <td>2</td>\n",
       "      <td>2</td>\n",
       "      <td>NaN</td>\n",
       "      <td>2</td>\n",
       "      <td>NaN</td>\n",
       "      <td>2</td>\n",
       "      <td>NaN</td>\n",
       "    </tr>\n",
       "  </tbody>\n",
       "</table>\n",
       "</div>"
      ],
      "text/plain": [
       "   uf  idade  sexo  cor_raca  sin_febre  sin_tosse  sin_dor_garganta  \\\n",
       "0  11     36     1         4          2          2                 2   \n",
       "1  11     30     2         4          2          2                 2   \n",
       "2  11     13     1         4          2          2                 2   \n",
       "3  11     11     1         4          2          2                 2   \n",
       "4  11     57     2         1          2          2                 2   \n",
       "\n",
       "   sin_dific_respirar  sin_dor_cabeca  si_dor_peito  sin_nausea  \\\n",
       "0                   2               2             2           2   \n",
       "1                   2               2             2           2   \n",
       "2                   2               2             2           2   \n",
       "3                   2               2             2           2   \n",
       "4                   2               2             2           2   \n",
       "\n",
       "   sin_nariz_entup  sin_fadiga  sin_perda_olf  sin_dor_muscular  \\\n",
       "0                2           2              2                 2   \n",
       "1                2           2              2                 2   \n",
       "2                2           2              2                 2   \n",
       "3                2           2              2                 2   \n",
       "4                2           2              2                 2   \n",
       "\n",
       "   resultado_teste  fez_isolamento  procurou_unid_saude  recebeu_aux  \\\n",
       "0              NaN               2                  NaN            1   \n",
       "1              NaN               2                  NaN            1   \n",
       "2              NaN               4                  NaN            1   \n",
       "3              NaN               4                  NaN            1   \n",
       "4              NaN               2                  NaN            2   \n",
       "\n",
       "   faixa_rendimento  \n",
       "0               4.0  \n",
       "1               4.0  \n",
       "2               NaN  \n",
       "3               NaN  \n",
       "4               NaN  "
      ]
     },
     "execution_count": 18,
     "metadata": {},
     "output_type": "execute_result"
    }
   ],
   "source": [
    "df_trabalho.head()"
   ]
  },
  {
   "cell_type": "code",
   "execution_count": 19,
   "id": "270f187f",
   "metadata": {},
   "outputs": [
    {
     "name": "stdout",
     "output_type": "stream",
     "text": [
      "['sin_febre', 'sin_tosse', 'sin_dor_garganta', 'sin_dific_respirar', 'sin_dor_cabeca', 'si_dor_peito', 'sin_nausea', 'sin_nariz_entup', 'sin_fadiga', 'sin_perda_olf', 'sin_dor_muscular']\n"
     ]
    }
   ],
   "source": [
    "colunas_sintomas = df_trabalho.iloc[:, 4:-5]\n",
    "lista_colunas_sintomas = colunas_sintomas.columns.to_list() # criação de uma lista contendo nomes de columas de sintomas\n",
    "print(lista_colunas_sintomas)"
   ]
  },
  {
   "cell_type": "code",
   "execution_count": 20,
   "id": "b797c399",
   "metadata": {
    "scrolled": false
   },
   "outputs": [
    {
     "data": {
      "text/html": [
       "<div>\n",
       "<style scoped>\n",
       "    .dataframe tbody tr th:only-of-type {\n",
       "        vertical-align: middle;\n",
       "    }\n",
       "\n",
       "    .dataframe tbody tr th {\n",
       "        vertical-align: top;\n",
       "    }\n",
       "\n",
       "    .dataframe thead th {\n",
       "        text-align: right;\n",
       "    }\n",
       "</style>\n",
       "<table border=\"1\" class=\"dataframe\">\n",
       "  <thead>\n",
       "    <tr style=\"text-align: right;\">\n",
       "      <th></th>\n",
       "      <th>uf</th>\n",
       "      <th>idade</th>\n",
       "      <th>sexo</th>\n",
       "      <th>cor_raca</th>\n",
       "      <th>sin_febre</th>\n",
       "      <th>sin_tosse</th>\n",
       "      <th>sin_dor_garganta</th>\n",
       "      <th>sin_dific_respirar</th>\n",
       "      <th>sin_dor_cabeca</th>\n",
       "      <th>si_dor_peito</th>\n",
       "      <th>sin_nausea</th>\n",
       "      <th>sin_nariz_entup</th>\n",
       "      <th>sin_fadiga</th>\n",
       "      <th>sin_perda_olf</th>\n",
       "      <th>sin_dor_muscular</th>\n",
       "      <th>resultado_teste</th>\n",
       "      <th>fez_isolamento</th>\n",
       "      <th>procurou_unid_saude</th>\n",
       "      <th>recebeu_aux</th>\n",
       "      <th>faixa_rendimento</th>\n",
       "    </tr>\n",
       "  </thead>\n",
       "  <tbody>\n",
       "    <tr>\n",
       "      <th>0</th>\n",
       "      <td>Rondônia</td>\n",
       "      <td>36</td>\n",
       "      <td>Homem</td>\n",
       "      <td>Parda</td>\n",
       "      <td>Não</td>\n",
       "      <td>Não</td>\n",
       "      <td>Não</td>\n",
       "      <td>Não</td>\n",
       "      <td>Não</td>\n",
       "      <td>Não</td>\n",
       "      <td>Não</td>\n",
       "      <td>Não</td>\n",
       "      <td>Não</td>\n",
       "      <td>Não</td>\n",
       "      <td>Não</td>\n",
       "      <td>None</td>\n",
       "      <td>Moderado</td>\n",
       "      <td>None</td>\n",
       "      <td>Sim</td>\n",
       "      <td>801 - 1.600</td>\n",
       "    </tr>\n",
       "    <tr>\n",
       "      <th>1</th>\n",
       "      <td>Rondônia</td>\n",
       "      <td>30</td>\n",
       "      <td>Mulher</td>\n",
       "      <td>Parda</td>\n",
       "      <td>Não</td>\n",
       "      <td>Não</td>\n",
       "      <td>Não</td>\n",
       "      <td>Não</td>\n",
       "      <td>Não</td>\n",
       "      <td>Não</td>\n",
       "      <td>Não</td>\n",
       "      <td>Não</td>\n",
       "      <td>Não</td>\n",
       "      <td>Não</td>\n",
       "      <td>Não</td>\n",
       "      <td>None</td>\n",
       "      <td>Moderado</td>\n",
       "      <td>None</td>\n",
       "      <td>Sim</td>\n",
       "      <td>801 - 1.600</td>\n",
       "    </tr>\n",
       "    <tr>\n",
       "      <th>2</th>\n",
       "      <td>Rondônia</td>\n",
       "      <td>13</td>\n",
       "      <td>Homem</td>\n",
       "      <td>Parda</td>\n",
       "      <td>Não</td>\n",
       "      <td>Não</td>\n",
       "      <td>Não</td>\n",
       "      <td>Não</td>\n",
       "      <td>Não</td>\n",
       "      <td>Não</td>\n",
       "      <td>Não</td>\n",
       "      <td>Não</td>\n",
       "      <td>Não</td>\n",
       "      <td>Não</td>\n",
       "      <td>Não</td>\n",
       "      <td>None</td>\n",
       "      <td>Totalmente</td>\n",
       "      <td>None</td>\n",
       "      <td>Sim</td>\n",
       "      <td>NaN</td>\n",
       "    </tr>\n",
       "    <tr>\n",
       "      <th>3</th>\n",
       "      <td>Rondônia</td>\n",
       "      <td>11</td>\n",
       "      <td>Homem</td>\n",
       "      <td>Parda</td>\n",
       "      <td>Não</td>\n",
       "      <td>Não</td>\n",
       "      <td>Não</td>\n",
       "      <td>Não</td>\n",
       "      <td>Não</td>\n",
       "      <td>Não</td>\n",
       "      <td>Não</td>\n",
       "      <td>Não</td>\n",
       "      <td>Não</td>\n",
       "      <td>Não</td>\n",
       "      <td>Não</td>\n",
       "      <td>None</td>\n",
       "      <td>Totalmente</td>\n",
       "      <td>None</td>\n",
       "      <td>Sim</td>\n",
       "      <td>NaN</td>\n",
       "    </tr>\n",
       "    <tr>\n",
       "      <th>4</th>\n",
       "      <td>Rondônia</td>\n",
       "      <td>57</td>\n",
       "      <td>Mulher</td>\n",
       "      <td>Branca</td>\n",
       "      <td>Não</td>\n",
       "      <td>Não</td>\n",
       "      <td>Não</td>\n",
       "      <td>Não</td>\n",
       "      <td>Não</td>\n",
       "      <td>Não</td>\n",
       "      <td>Não</td>\n",
       "      <td>Não</td>\n",
       "      <td>Não</td>\n",
       "      <td>Não</td>\n",
       "      <td>Não</td>\n",
       "      <td>None</td>\n",
       "      <td>Moderado</td>\n",
       "      <td>None</td>\n",
       "      <td>Não</td>\n",
       "      <td>NaN</td>\n",
       "    </tr>\n",
       "    <tr>\n",
       "      <th>5</th>\n",
       "      <td>Rondônia</td>\n",
       "      <td>58</td>\n",
       "      <td>Mulher</td>\n",
       "      <td>Preta</td>\n",
       "      <td>Não</td>\n",
       "      <td>Não</td>\n",
       "      <td>Não</td>\n",
       "      <td>Não</td>\n",
       "      <td>Não</td>\n",
       "      <td>Não</td>\n",
       "      <td>Não</td>\n",
       "      <td>Não</td>\n",
       "      <td>Não</td>\n",
       "      <td>Não</td>\n",
       "      <td>Não</td>\n",
       "      <td>None</td>\n",
       "      <td>Sim</td>\n",
       "      <td>None</td>\n",
       "      <td>Não</td>\n",
       "      <td>0 - 100</td>\n",
       "    </tr>\n",
       "    <tr>\n",
       "      <th>6</th>\n",
       "      <td>Rondônia</td>\n",
       "      <td>47</td>\n",
       "      <td>Homem</td>\n",
       "      <td>Parda</td>\n",
       "      <td>Não</td>\n",
       "      <td>Não</td>\n",
       "      <td>Não</td>\n",
       "      <td>Não</td>\n",
       "      <td>Não</td>\n",
       "      <td>Não</td>\n",
       "      <td>Não</td>\n",
       "      <td>Não</td>\n",
       "      <td>Não</td>\n",
       "      <td>Não</td>\n",
       "      <td>Não</td>\n",
       "      <td>None</td>\n",
       "      <td>Moderado</td>\n",
       "      <td>None</td>\n",
       "      <td>Sim</td>\n",
       "      <td>301 - 600</td>\n",
       "    </tr>\n",
       "    <tr>\n",
       "      <th>7</th>\n",
       "      <td>Rondônia</td>\n",
       "      <td>18</td>\n",
       "      <td>Mulher</td>\n",
       "      <td>Parda</td>\n",
       "      <td>Não</td>\n",
       "      <td>Não</td>\n",
       "      <td>Não</td>\n",
       "      <td>Não</td>\n",
       "      <td>Não</td>\n",
       "      <td>Não</td>\n",
       "      <td>Não</td>\n",
       "      <td>Não</td>\n",
       "      <td>Não</td>\n",
       "      <td>Não</td>\n",
       "      <td>Não</td>\n",
       "      <td>None</td>\n",
       "      <td>Sim</td>\n",
       "      <td>None</td>\n",
       "      <td>Sim</td>\n",
       "      <td>NaN</td>\n",
       "    </tr>\n",
       "    <tr>\n",
       "      <th>8</th>\n",
       "      <td>Rondônia</td>\n",
       "      <td>11</td>\n",
       "      <td>Homem</td>\n",
       "      <td>Parda</td>\n",
       "      <td>Não</td>\n",
       "      <td>Não</td>\n",
       "      <td>Não</td>\n",
       "      <td>Não</td>\n",
       "      <td>Não</td>\n",
       "      <td>Não</td>\n",
       "      <td>Não</td>\n",
       "      <td>Não</td>\n",
       "      <td>Não</td>\n",
       "      <td>Não</td>\n",
       "      <td>Não</td>\n",
       "      <td>None</td>\n",
       "      <td>Totalmente</td>\n",
       "      <td>None</td>\n",
       "      <td>Sim</td>\n",
       "      <td>NaN</td>\n",
       "    </tr>\n",
       "    <tr>\n",
       "      <th>9</th>\n",
       "      <td>Rondônia</td>\n",
       "      <td>9</td>\n",
       "      <td>Mulher</td>\n",
       "      <td>Parda</td>\n",
       "      <td>Não</td>\n",
       "      <td>Não</td>\n",
       "      <td>Não</td>\n",
       "      <td>Não</td>\n",
       "      <td>Não</td>\n",
       "      <td>Não</td>\n",
       "      <td>Não</td>\n",
       "      <td>Não</td>\n",
       "      <td>Não</td>\n",
       "      <td>Não</td>\n",
       "      <td>Não</td>\n",
       "      <td>None</td>\n",
       "      <td>Totalmente</td>\n",
       "      <td>None</td>\n",
       "      <td>Sim</td>\n",
       "      <td>NaN</td>\n",
       "    </tr>\n",
       "    <tr>\n",
       "      <th>10</th>\n",
       "      <td>Rondônia</td>\n",
       "      <td>10</td>\n",
       "      <td>Homem</td>\n",
       "      <td>Parda</td>\n",
       "      <td>Não</td>\n",
       "      <td>Não</td>\n",
       "      <td>Não</td>\n",
       "      <td>Não</td>\n",
       "      <td>Não</td>\n",
       "      <td>Não</td>\n",
       "      <td>Não</td>\n",
       "      <td>Não</td>\n",
       "      <td>Não</td>\n",
       "      <td>Não</td>\n",
       "      <td>Não</td>\n",
       "      <td>None</td>\n",
       "      <td>Totalmente</td>\n",
       "      <td>None</td>\n",
       "      <td>Sim</td>\n",
       "      <td>NaN</td>\n",
       "    </tr>\n",
       "    <tr>\n",
       "      <th>11</th>\n",
       "      <td>Rondônia</td>\n",
       "      <td>26</td>\n",
       "      <td>Homem</td>\n",
       "      <td>Parda</td>\n",
       "      <td>Não</td>\n",
       "      <td>Não</td>\n",
       "      <td>Não</td>\n",
       "      <td>Não</td>\n",
       "      <td>Não</td>\n",
       "      <td>Não</td>\n",
       "      <td>Não</td>\n",
       "      <td>Não</td>\n",
       "      <td>Não</td>\n",
       "      <td>Não</td>\n",
       "      <td>Não</td>\n",
       "      <td>None</td>\n",
       "      <td>Moderado</td>\n",
       "      <td>None</td>\n",
       "      <td>Sim</td>\n",
       "      <td>301 - 600</td>\n",
       "    </tr>\n",
       "    <tr>\n",
       "      <th>12</th>\n",
       "      <td>Rondônia</td>\n",
       "      <td>14</td>\n",
       "      <td>Homem</td>\n",
       "      <td>Amarela</td>\n",
       "      <td>Não</td>\n",
       "      <td>Não</td>\n",
       "      <td>Não</td>\n",
       "      <td>Não</td>\n",
       "      <td>Não</td>\n",
       "      <td>Não</td>\n",
       "      <td>Não</td>\n",
       "      <td>Não</td>\n",
       "      <td>Não</td>\n",
       "      <td>Não</td>\n",
       "      <td>Não</td>\n",
       "      <td>None</td>\n",
       "      <td>Totalmente</td>\n",
       "      <td>None</td>\n",
       "      <td>Sim</td>\n",
       "      <td>NaN</td>\n",
       "    </tr>\n",
       "    <tr>\n",
       "      <th>13</th>\n",
       "      <td>Rondônia</td>\n",
       "      <td>15</td>\n",
       "      <td>Mulher</td>\n",
       "      <td>Parda</td>\n",
       "      <td>Não</td>\n",
       "      <td>Não</td>\n",
       "      <td>Não</td>\n",
       "      <td>Não</td>\n",
       "      <td>Não</td>\n",
       "      <td>Não</td>\n",
       "      <td>Não</td>\n",
       "      <td>Não</td>\n",
       "      <td>Não</td>\n",
       "      <td>Não</td>\n",
       "      <td>Não</td>\n",
       "      <td>None</td>\n",
       "      <td>Totalmente</td>\n",
       "      <td>None</td>\n",
       "      <td>Sim</td>\n",
       "      <td>NaN</td>\n",
       "    </tr>\n",
       "    <tr>\n",
       "      <th>14</th>\n",
       "      <td>Rondônia</td>\n",
       "      <td>33</td>\n",
       "      <td>Mulher</td>\n",
       "      <td>Parda</td>\n",
       "      <td>Não</td>\n",
       "      <td>Não</td>\n",
       "      <td>Não</td>\n",
       "      <td>Não</td>\n",
       "      <td>Não</td>\n",
       "      <td>Não</td>\n",
       "      <td>Não</td>\n",
       "      <td>Não</td>\n",
       "      <td>Não</td>\n",
       "      <td>Não</td>\n",
       "      <td>Não</td>\n",
       "      <td>None</td>\n",
       "      <td>Sim</td>\n",
       "      <td>None</td>\n",
       "      <td>Sim</td>\n",
       "      <td>NaN</td>\n",
       "    </tr>\n",
       "    <tr>\n",
       "      <th>15</th>\n",
       "      <td>Rondônia</td>\n",
       "      <td>62</td>\n",
       "      <td>Homem</td>\n",
       "      <td>Parda</td>\n",
       "      <td>Não</td>\n",
       "      <td>Não</td>\n",
       "      <td>Não</td>\n",
       "      <td>Não</td>\n",
       "      <td>Não</td>\n",
       "      <td>Não</td>\n",
       "      <td>Não</td>\n",
       "      <td>Não</td>\n",
       "      <td>Não</td>\n",
       "      <td>Não</td>\n",
       "      <td>Não</td>\n",
       "      <td>None</td>\n",
       "      <td>Moderado</td>\n",
       "      <td>None</td>\n",
       "      <td>Sim</td>\n",
       "      <td>801 - 1.600</td>\n",
       "    </tr>\n",
       "    <tr>\n",
       "      <th>16</th>\n",
       "      <td>Rondônia</td>\n",
       "      <td>62</td>\n",
       "      <td>Mulher</td>\n",
       "      <td>Parda</td>\n",
       "      <td>Não</td>\n",
       "      <td>Não</td>\n",
       "      <td>Não</td>\n",
       "      <td>Não</td>\n",
       "      <td>Não</td>\n",
       "      <td>Não</td>\n",
       "      <td>Não</td>\n",
       "      <td>Não</td>\n",
       "      <td>Não</td>\n",
       "      <td>Não</td>\n",
       "      <td>Não</td>\n",
       "      <td>None</td>\n",
       "      <td>Moderado</td>\n",
       "      <td>None</td>\n",
       "      <td>Sim</td>\n",
       "      <td>NaN</td>\n",
       "    </tr>\n",
       "    <tr>\n",
       "      <th>17</th>\n",
       "      <td>Rondônia</td>\n",
       "      <td>56</td>\n",
       "      <td>Mulher</td>\n",
       "      <td>Parda</td>\n",
       "      <td>Não</td>\n",
       "      <td>Não</td>\n",
       "      <td>Não</td>\n",
       "      <td>Não</td>\n",
       "      <td>Não</td>\n",
       "      <td>Não</td>\n",
       "      <td>Não</td>\n",
       "      <td>Não</td>\n",
       "      <td>Não</td>\n",
       "      <td>Não</td>\n",
       "      <td>Não</td>\n",
       "      <td>None</td>\n",
       "      <td>Moderado</td>\n",
       "      <td>None</td>\n",
       "      <td>Sim</td>\n",
       "      <td>NaN</td>\n",
       "    </tr>\n",
       "    <tr>\n",
       "      <th>18</th>\n",
       "      <td>Rondônia</td>\n",
       "      <td>53</td>\n",
       "      <td>Homem</td>\n",
       "      <td>Preta</td>\n",
       "      <td>Não</td>\n",
       "      <td>Não</td>\n",
       "      <td>Não</td>\n",
       "      <td>Não</td>\n",
       "      <td>Não</td>\n",
       "      <td>Não</td>\n",
       "      <td>Não</td>\n",
       "      <td>Não</td>\n",
       "      <td>Não</td>\n",
       "      <td>Não</td>\n",
       "      <td>Não</td>\n",
       "      <td>None</td>\n",
       "      <td>Sim</td>\n",
       "      <td>None</td>\n",
       "      <td>Sim</td>\n",
       "      <td>801 - 1.600</td>\n",
       "    </tr>\n",
       "    <tr>\n",
       "      <th>19</th>\n",
       "      <td>Rondônia</td>\n",
       "      <td>17</td>\n",
       "      <td>Mulher</td>\n",
       "      <td>Branca</td>\n",
       "      <td>Não</td>\n",
       "      <td>Não</td>\n",
       "      <td>Não</td>\n",
       "      <td>Não</td>\n",
       "      <td>Não</td>\n",
       "      <td>Não</td>\n",
       "      <td>Não</td>\n",
       "      <td>Não</td>\n",
       "      <td>Não</td>\n",
       "      <td>Não</td>\n",
       "      <td>Não</td>\n",
       "      <td>None</td>\n",
       "      <td>Moderado</td>\n",
       "      <td>None</td>\n",
       "      <td>Sim</td>\n",
       "      <td>NaN</td>\n",
       "    </tr>\n",
       "  </tbody>\n",
       "</table>\n",
       "</div>"
      ],
      "text/plain": [
       "          uf  idade    sexo cor_raca sin_febre sin_tosse sin_dor_garganta  \\\n",
       "0   Rondônia     36   Homem    Parda       Não       Não              Não   \n",
       "1   Rondônia     30  Mulher    Parda       Não       Não              Não   \n",
       "2   Rondônia     13   Homem    Parda       Não       Não              Não   \n",
       "3   Rondônia     11   Homem    Parda       Não       Não              Não   \n",
       "4   Rondônia     57  Mulher   Branca       Não       Não              Não   \n",
       "5   Rondônia     58  Mulher    Preta       Não       Não              Não   \n",
       "6   Rondônia     47   Homem    Parda       Não       Não              Não   \n",
       "7   Rondônia     18  Mulher    Parda       Não       Não              Não   \n",
       "8   Rondônia     11   Homem    Parda       Não       Não              Não   \n",
       "9   Rondônia      9  Mulher    Parda       Não       Não              Não   \n",
       "10  Rondônia     10   Homem    Parda       Não       Não              Não   \n",
       "11  Rondônia     26   Homem    Parda       Não       Não              Não   \n",
       "12  Rondônia     14   Homem  Amarela       Não       Não              Não   \n",
       "13  Rondônia     15  Mulher    Parda       Não       Não              Não   \n",
       "14  Rondônia     33  Mulher    Parda       Não       Não              Não   \n",
       "15  Rondônia     62   Homem    Parda       Não       Não              Não   \n",
       "16  Rondônia     62  Mulher    Parda       Não       Não              Não   \n",
       "17  Rondônia     56  Mulher    Parda       Não       Não              Não   \n",
       "18  Rondônia     53   Homem    Preta       Não       Não              Não   \n",
       "19  Rondônia     17  Mulher   Branca       Não       Não              Não   \n",
       "\n",
       "   sin_dific_respirar sin_dor_cabeca si_dor_peito sin_nausea sin_nariz_entup  \\\n",
       "0                 Não            Não          Não        Não             Não   \n",
       "1                 Não            Não          Não        Não             Não   \n",
       "2                 Não            Não          Não        Não             Não   \n",
       "3                 Não            Não          Não        Não             Não   \n",
       "4                 Não            Não          Não        Não             Não   \n",
       "5                 Não            Não          Não        Não             Não   \n",
       "6                 Não            Não          Não        Não             Não   \n",
       "7                 Não            Não          Não        Não             Não   \n",
       "8                 Não            Não          Não        Não             Não   \n",
       "9                 Não            Não          Não        Não             Não   \n",
       "10                Não            Não          Não        Não             Não   \n",
       "11                Não            Não          Não        Não             Não   \n",
       "12                Não            Não          Não        Não             Não   \n",
       "13                Não            Não          Não        Não             Não   \n",
       "14                Não            Não          Não        Não             Não   \n",
       "15                Não            Não          Não        Não             Não   \n",
       "16                Não            Não          Não        Não             Não   \n",
       "17                Não            Não          Não        Não             Não   \n",
       "18                Não            Não          Não        Não             Não   \n",
       "19                Não            Não          Não        Não             Não   \n",
       "\n",
       "   sin_fadiga sin_perda_olf sin_dor_muscular resultado_teste fez_isolamento  \\\n",
       "0         Não           Não              Não            None       Moderado   \n",
       "1         Não           Não              Não            None       Moderado   \n",
       "2         Não           Não              Não            None     Totalmente   \n",
       "3         Não           Não              Não            None     Totalmente   \n",
       "4         Não           Não              Não            None       Moderado   \n",
       "5         Não           Não              Não            None            Sim   \n",
       "6         Não           Não              Não            None       Moderado   \n",
       "7         Não           Não              Não            None            Sim   \n",
       "8         Não           Não              Não            None     Totalmente   \n",
       "9         Não           Não              Não            None     Totalmente   \n",
       "10        Não           Não              Não            None     Totalmente   \n",
       "11        Não           Não              Não            None       Moderado   \n",
       "12        Não           Não              Não            None     Totalmente   \n",
       "13        Não           Não              Não            None     Totalmente   \n",
       "14        Não           Não              Não            None            Sim   \n",
       "15        Não           Não              Não            None       Moderado   \n",
       "16        Não           Não              Não            None       Moderado   \n",
       "17        Não           Não              Não            None       Moderado   \n",
       "18        Não           Não              Não            None            Sim   \n",
       "19        Não           Não              Não            None       Moderado   \n",
       "\n",
       "   procurou_unid_saude recebeu_aux faixa_rendimento  \n",
       "0                 None         Sim      801 - 1.600  \n",
       "1                 None         Sim      801 - 1.600  \n",
       "2                 None         Sim              NaN  \n",
       "3                 None         Sim              NaN  \n",
       "4                 None         Não              NaN  \n",
       "5                 None         Não          0 - 100  \n",
       "6                 None         Sim        301 - 600  \n",
       "7                 None         Sim              NaN  \n",
       "8                 None         Sim              NaN  \n",
       "9                 None         Sim              NaN  \n",
       "10                None         Sim              NaN  \n",
       "11                None         Sim        301 - 600  \n",
       "12                None         Sim              NaN  \n",
       "13                None         Sim              NaN  \n",
       "14                None         Sim              NaN  \n",
       "15                None         Sim      801 - 1.600  \n",
       "16                None         Sim              NaN  \n",
       "17                None         Sim              NaN  \n",
       "18                None         Sim      801 - 1.600  \n",
       "19                None         Sim              NaN  "
      ]
     },
     "execution_count": 20,
     "metadata": {},
     "output_type": "execute_result"
    }
   ],
   "source": [
    "df_trabalho.uf = df_trabalho.uf.map(uf_dict)\n",
    "df_trabalho.sexo = df_trabalho.sexo.map(sexo_dict)\n",
    "df_trabalho.cor_raca = df_trabalho.cor_raca.map(cor_raca_dict)\n",
    "df_trabalho.resultado_teste = df_trabalho.resultado_teste.map(teste_coronavirus_dict)\n",
    "df_trabalho.fez_isolamento = df_trabalho.fez_isolamento.map(fez_isolamento_dict_v2)\n",
    "df_trabalho.procurou_unid_saude = df_trabalho.procurou_unid_saude.map(procurou_unid_saude_dict)\n",
    "df_trabalho.recebeu_aux = df_trabalho.recebeu_aux.map(recebeu_aux_dict)\n",
    "df_trabalho.faixa_rendimento = df_trabalho.faixa_rendimento.map(faixa_rendimento_dict)\n",
    "\n",
    "for coll in lista_colunas_sintomas:\n",
    "  df_trabalho[coll] = df_trabalho[coll].map(sintomas_dict)\n",
    "\n",
    "df_trabalho.head(20)"
   ]
  },
  {
   "cell_type": "markdown",
   "id": "49cf27d1",
   "metadata": {},
   "source": [
    "## Parte 2  - Características da população"
   ]
  },
  {
   "cell_type": "code",
   "execution_count": 21,
   "id": "74dbe53c",
   "metadata": {},
   "outputs": [
    {
     "data": {
      "text/plain": [
       "(1149197, 20)"
      ]
     },
     "execution_count": 21,
     "metadata": {},
     "output_type": "execute_result"
    }
   ],
   "source": [
    "df_trabalho.shape "
   ]
  },
  {
   "cell_type": "code",
   "execution_count": 23,
   "id": "5db5ae78",
   "metadata": {},
   "outputs": [
    {
     "data": {
      "text/plain": [
       "Minas Gerais           103096\n",
       "São Paulo               98021\n",
       "Rio de Janeiro          87405\n",
       "Santa Catarina          70990\n",
       "Rio Grande do Sul       66446\n",
       "Maranhão                61200\n",
       "Paraná                  59984\n",
       "Bahia                   51310\n",
       "Pernambuco              50811\n",
       "Ceará                   50536\n",
       "Espírito Santo          47511\n",
       "Goiás                   41977\n",
       "Pará                    35764\n",
       "Alagoas                 34450\n",
       "Mato Grosso             34156\n",
       "Amazonas                31355\n",
       "Paraíba                 29687\n",
       "Mato Grosso do Sul      26434\n",
       "Piauí                   25137\n",
       "Sergipe                 24216\n",
       "Rio Grande do Norte     23552\n",
       "Distrito Federal        19906\n",
       "Acre                    18834\n",
       "Roraima                 16674\n",
       "Rondônia                16622\n",
       "Tocantins               15446\n",
       "Amapá                    7677\n",
       "Name: uf, dtype: int64"
      ]
     },
     "execution_count": 23,
     "metadata": {},
     "output_type": "execute_result"
    }
   ],
   "source": [
    "df_trabalho['uf'].value_counts() #pesquisas realizadas por estado"
   ]
  },
  {
   "cell_type": "code",
   "execution_count": 118,
   "id": "261d67a7",
   "metadata": {
    "scrolled": false
   },
   "outputs": [
    {
     "data": {
      "image/png": "[encoded data removed]",
      "text/plain": [
       "<Figure size 1080x576 with 1 Axes>"
      ]
     },
     "metadata": {
      "needs_background": "light"
     },
     "output_type": "display_data"
    }
   ],
   "source": [
    "plt.figure(figsize=(15, 8))\n",
    "ax = sns.countplot(df_trabalho['uf'], order = df_trabalho['uf'].value_counts(ascending=False).index)\n",
    "\n",
    "abs_values = df_trabalho['uf'].value_counts(ascending=False).values\n",
    "ax.bar_label(container=ax.containers[0], labels=abs_values)\n",
    "plt.xticks(rotation=90)\n",
    "plt.title('Quantidade de Pesquisa por Estado')\n",
    "\n",
    "plt.show()"
   ]
  },
  {
   "cell_type": "code",
   "execution_count": 110,
   "id": "866ce2e1",
   "metadata": {},
   "outputs": [
    {
     "data": {
      "image/png": "[encoded data removed]",
      "text/plain": [
       "<Figure size 1080x576 with 1 Axes>"
      ]
     },
     "metadata": {
      "needs_background": "light"
     },
     "output_type": "display_data"
    }
   ],
   "source": [
    "plt.figure(figsize=(15, 8))\n",
    "ax = sns.histplot(data=df_trabalho, x='idade', bins = 25)\n",
    "edges = [rect.get_x() for rect in ax.patches] + [ax.patches[-1].get_x() + ax.patches[-1].get_width()]\n",
    "ax.set_xticks(edges)\n",
    "ax.tick_params(axis='x', rotation=90, labelsize=8)\n",
    "plt.title('Frequência das Idades - Pesquista Total')\n",
    "plt.show()"
   ]
  },
  {
   "cell_type": "code",
   "execution_count": 206,
   "id": "31edd550",
   "metadata": {},
   "outputs": [
    {
     "data": {
      "text/plain": [
       "36.97701264448132"
      ]
     },
     "execution_count": 206,
     "metadata": {},
     "output_type": "execute_result"
    }
   ],
   "source": [
    "df_trabalho['idade'].mean() #média idade pesquisa total"
   ]
  },
  {
   "cell_type": "code",
   "execution_count": 113,
   "id": "32549a6c",
   "metadata": {
    "scrolled": true
   },
   "outputs": [
    {
     "data": {
      "text/plain": [
       "Mulher    52.08\n",
       "Homem     47.92\n",
       "Name: sexo, dtype: float64"
      ]
     },
     "execution_count": 113,
     "metadata": {},
     "output_type": "execute_result"
    }
   ],
   "source": [
    "df_trabalho['sexo'].value_counts(normalize=True).round(4)*100 #proporção sexo pesquisa total"
   ]
  },
  {
   "cell_type": "code",
   "execution_count": 115,
   "id": "daef8837",
   "metadata": {},
   "outputs": [
    {
     "data": {
      "text/plain": [
       "Parda       49.02\n",
       "Branca      41.76\n",
       "Preta        8.22\n",
       "Amarela      0.59\n",
       "Indígena     0.39\n",
       "Ignorado     0.02\n",
       "Name: cor_raca, dtype: float64"
      ]
     },
     "execution_count": 115,
     "metadata": {},
     "output_type": "execute_result"
    }
   ],
   "source": [
    "df_trabalho['cor_raca'].value_counts(normalize=True).round(4)*100 #proporção cor ou raca pesquisa total"
   ]
  },
  {
   "cell_type": "code",
   "execution_count": 114,
   "id": "8f3a731a",
   "metadata": {},
   "outputs": [
    {
     "data": {
      "image/png": "[encoded data removed]",
      "text/plain": [
       "<Figure size 1080x720 with 1 Axes>"
      ]
     },
     "metadata": {
      "needs_background": "light"
     },
     "output_type": "display_data"
    }
   ],
   "source": [
    "plt.figure(figsize=(15, 10))\n",
    "ax = sns.countplot(df_trabalho['cor_raca'], order = df_trabalho['cor_raca'].value_counts(ascending=False).index)\n",
    "\n",
    "\n",
    "abs_values = df_trabalho['cor_raca'].value_counts(ascending=False).values\n",
    "ax.bar_label(container=ax.containers[0], labels=abs_values)\n",
    "\n",
    "plt.title('Quantidade Cor ou Raça - Pesquisa Total')\n",
    "\n",
    "\n",
    "\n",
    "plt.show()"
   ]
  },
  {
   "cell_type": "code",
   "execution_count": 134,
   "id": "3c7e1d23",
   "metadata": {},
   "outputs": [
    {
     "data": {
      "text/plain": [
       "Não Fez                          95.57\n",
       "Negativo                          3.04\n",
       "Positivo                          1.26\n",
       "Ainda não recebeu o resultado     0.11\n",
       "Inconclusivo                      0.02\n",
       "Ignorado                          0.00\n",
       "Name: resultado_teste, dtype: float64"
      ]
     },
     "execution_count": 134,
     "metadata": {},
     "output_type": "execute_result"
    }
   ],
   "source": [
    "df_trabalho['resultado_teste'].value_counts(normalize=True).round(4)*100 #proporção do resultado do teste - pesquisa total"
   ]
  },
  {
   "cell_type": "code",
   "execution_count": 26,
   "id": "f35c588a",
   "metadata": {},
   "outputs": [],
   "source": [
    "df_trabalho['resultado_teste'].fillna(\"Não Fez\", inplace=True) #assumindo valores nulos como Não fez o teste"
   ]
  },
  {
   "cell_type": "code",
   "execution_count": 132,
   "id": "42f67cd7",
   "metadata": {},
   "outputs": [
    {
     "data": {
      "image/png": "[encoded data removed]",
      "text/plain": [
       "<Figure size 1080x720 with 1 Axes>"
      ]
     },
     "metadata": {
      "needs_background": "light"
     },
     "output_type": "display_data"
    }
   ],
   "source": [
    "plt.figure(figsize=(15, 10))\n",
    "ax = sns.countplot(df_trabalho[\"resultado_teste\"], order = df_trabalho[\"resultado_teste\"].value_counts(ascending=False).index)\n",
    "\n",
    "\n",
    "abs_values = df_trabalho[\"resultado_teste\"].value_counts(ascending=False).values\n",
    "ax.bar_label(container=ax.containers[0], labels=abs_values)\n",
    "\n",
    "plt.title('Resultado do Teste - Pesquisa Total')\n",
    "\n",
    "\n",
    "\n",
    "plt.show()"
   ]
  },
  {
   "cell_type": "code",
   "execution_count": 116,
   "id": "d04114af",
   "metadata": {},
   "outputs": [],
   "source": [
    "df_positivos = df_trabalho[df_trabalho[\"resultado_teste\"] == \"Positivo\"]"
   ]
  },
  {
   "cell_type": "code",
   "execution_count": 119,
   "id": "c7cf2537",
   "metadata": {
    "scrolled": false
   },
   "outputs": [
    {
     "data": {
      "image/png": "[encoded data removed]",
      "text/plain": [
       "<Figure size 1080x576 with 1 Axes>"
      ]
     },
     "metadata": {
      "needs_background": "light"
     },
     "output_type": "display_data"
    }
   ],
   "source": [
    "plt.figure(figsize=(15, 8))\n",
    "ax = sns.countplot(df_positivos['uf'], order = df_positivos['uf'].value_counts(ascending=False).index)\n",
    "\n",
    "abs_values = df_positivos['uf'].value_counts(ascending=False).values\n",
    "ax.bar_label(container=ax.containers[0], labels=abs_values)\n",
    "plt.xticks(rotation=90)\n",
    "plt.title('Quantidade de Positivados Covid-19 por Estado')\n",
    "\n",
    "plt.show()"
   ]
  },
  {
   "cell_type": "code",
   "execution_count": 127,
   "id": "46bd9495",
   "metadata": {},
   "outputs": [],
   "source": [
    "positivos_estados = df_positivos.groupby('uf')['uf'].count().reset_index(name='qtd')"
   ]
  },
  {
   "cell_type": "code",
   "execution_count": 123,
   "id": "ec3d2bda",
   "metadata": {},
   "outputs": [],
   "source": [
    "pop_estados = pd.read_excel('ibge_estados_2022.xlsx')"
   ]
  },
  {
   "cell_type": "code",
   "execution_count": 125,
   "id": "d91de243",
   "metadata": {},
   "outputs": [],
   "source": [
    "pop_estados.rename(columns={\"Unidade da Federação\": \"uf\", \"População\": \"pop\"},inplace=True)"
   ]
  },
  {
   "cell_type": "code",
   "execution_count": 130,
   "id": "48da5c9a",
   "metadata": {},
   "outputs": [],
   "source": [
    "positivos_estados = positivos_estados.merge(pop_estados, on='uf', how='left')"
   ]
  },
  {
   "cell_type": "code",
   "execution_count": 138,
   "id": "72146120",
   "metadata": {},
   "outputs": [],
   "source": [
    "positivos_estados['positivos_100mil_hab'] = ((positivos_estados['qtd']/positivos_estados['pop'])*100_000).round(2)"
   ]
  },
  {
   "cell_type": "code",
   "execution_count": 139,
   "id": "4eab1cdd",
   "metadata": {
    "scrolled": false
   },
   "outputs": [
    {
     "data": {
      "text/html": [
       "<div>\n",
       "<style scoped>\n",
       "    .dataframe tbody tr th:only-of-type {\n",
       "        vertical-align: middle;\n",
       "    }\n",
       "\n",
       "    .dataframe tbody tr th {\n",
       "        vertical-align: top;\n",
       "    }\n",
       "\n",
       "    .dataframe thead th {\n",
       "        text-align: right;\n",
       "    }\n",
       "</style>\n",
       "<table border=\"1\" class=\"dataframe\">\n",
       "  <thead>\n",
       "    <tr style=\"text-align: right;\">\n",
       "      <th></th>\n",
       "      <th>uf</th>\n",
       "      <th>qtd</th>\n",
       "      <th>pop</th>\n",
       "      <th>positivos_100mil_hab</th>\n",
       "    </tr>\n",
       "  </thead>\n",
       "  <tbody>\n",
       "    <tr>\n",
       "      <th>0</th>\n",
       "      <td>Acre</td>\n",
       "      <td>293</td>\n",
       "      <td>830018</td>\n",
       "      <td>35.30</td>\n",
       "    </tr>\n",
       "    <tr>\n",
       "      <th>1</th>\n",
       "      <td>Alagoas</td>\n",
       "      <td>232</td>\n",
       "      <td>3127683</td>\n",
       "      <td>7.42</td>\n",
       "    </tr>\n",
       "    <tr>\n",
       "      <th>2</th>\n",
       "      <td>Amapá</td>\n",
       "      <td>117</td>\n",
       "      <td>733759</td>\n",
       "      <td>15.95</td>\n",
       "    </tr>\n",
       "    <tr>\n",
       "      <th>3</th>\n",
       "      <td>Amazonas</td>\n",
       "      <td>267</td>\n",
       "      <td>3941613</td>\n",
       "      <td>6.77</td>\n",
       "    </tr>\n",
       "    <tr>\n",
       "      <th>4</th>\n",
       "      <td>Bahia</td>\n",
       "      <td>496</td>\n",
       "      <td>14141626</td>\n",
       "      <td>3.51</td>\n",
       "    </tr>\n",
       "    <tr>\n",
       "      <th>5</th>\n",
       "      <td>Ceará</td>\n",
       "      <td>383</td>\n",
       "      <td>8794957</td>\n",
       "      <td>4.35</td>\n",
       "    </tr>\n",
       "    <tr>\n",
       "      <th>6</th>\n",
       "      <td>Distrito Federal</td>\n",
       "      <td>701</td>\n",
       "      <td>2817381</td>\n",
       "      <td>24.88</td>\n",
       "    </tr>\n",
       "    <tr>\n",
       "      <th>7</th>\n",
       "      <td>Espírito Santo</td>\n",
       "      <td>827</td>\n",
       "      <td>3833712</td>\n",
       "      <td>21.57</td>\n",
       "    </tr>\n",
       "    <tr>\n",
       "      <th>8</th>\n",
       "      <td>Goiás</td>\n",
       "      <td>1427</td>\n",
       "      <td>7056495</td>\n",
       "      <td>20.22</td>\n",
       "    </tr>\n",
       "    <tr>\n",
       "      <th>9</th>\n",
       "      <td>Maranhão</td>\n",
       "      <td>234</td>\n",
       "      <td>6775805</td>\n",
       "      <td>3.45</td>\n",
       "    </tr>\n",
       "    <tr>\n",
       "      <th>10</th>\n",
       "      <td>Mato Grosso</td>\n",
       "      <td>564</td>\n",
       "      <td>3658649</td>\n",
       "      <td>15.42</td>\n",
       "    </tr>\n",
       "    <tr>\n",
       "      <th>11</th>\n",
       "      <td>Mato Grosso do Sul</td>\n",
       "      <td>421</td>\n",
       "      <td>2757013</td>\n",
       "      <td>15.27</td>\n",
       "    </tr>\n",
       "    <tr>\n",
       "      <th>12</th>\n",
       "      <td>Minas Gerais</td>\n",
       "      <td>787</td>\n",
       "      <td>20539989</td>\n",
       "      <td>3.83</td>\n",
       "    </tr>\n",
       "    <tr>\n",
       "      <th>13</th>\n",
       "      <td>Paraná</td>\n",
       "      <td>863</td>\n",
       "      <td>11444380</td>\n",
       "      <td>7.54</td>\n",
       "    </tr>\n",
       "    <tr>\n",
       "      <th>14</th>\n",
       "      <td>Paraíba</td>\n",
       "      <td>172</td>\n",
       "      <td>3974687</td>\n",
       "      <td>4.33</td>\n",
       "    </tr>\n",
       "    <tr>\n",
       "      <th>15</th>\n",
       "      <td>Pará</td>\n",
       "      <td>256</td>\n",
       "      <td>8121025</td>\n",
       "      <td>3.15</td>\n",
       "    </tr>\n",
       "    <tr>\n",
       "      <th>16</th>\n",
       "      <td>Pernambuco</td>\n",
       "      <td>369</td>\n",
       "      <td>9058931</td>\n",
       "      <td>4.07</td>\n",
       "    </tr>\n",
       "    <tr>\n",
       "      <th>17</th>\n",
       "      <td>Piauí</td>\n",
       "      <td>402</td>\n",
       "      <td>3271199</td>\n",
       "      <td>12.29</td>\n",
       "    </tr>\n",
       "    <tr>\n",
       "      <th>18</th>\n",
       "      <td>Rio Grande do Norte</td>\n",
       "      <td>356</td>\n",
       "      <td>3302729</td>\n",
       "      <td>10.78</td>\n",
       "    </tr>\n",
       "    <tr>\n",
       "      <th>19</th>\n",
       "      <td>Rio Grande do Sul</td>\n",
       "      <td>748</td>\n",
       "      <td>10882965</td>\n",
       "      <td>6.87</td>\n",
       "    </tr>\n",
       "    <tr>\n",
       "      <th>20</th>\n",
       "      <td>Rio de Janeiro</td>\n",
       "      <td>886</td>\n",
       "      <td>16055174</td>\n",
       "      <td>5.52</td>\n",
       "    </tr>\n",
       "    <tr>\n",
       "      <th>21</th>\n",
       "      <td>Rondônia</td>\n",
       "      <td>384</td>\n",
       "      <td>1581196</td>\n",
       "      <td>24.29</td>\n",
       "    </tr>\n",
       "    <tr>\n",
       "      <th>22</th>\n",
       "      <td>Roraima</td>\n",
       "      <td>224</td>\n",
       "      <td>636707</td>\n",
       "      <td>35.18</td>\n",
       "    </tr>\n",
       "    <tr>\n",
       "      <th>23</th>\n",
       "      <td>Santa Catarina</td>\n",
       "      <td>822</td>\n",
       "      <td>7610361</td>\n",
       "      <td>10.80</td>\n",
       "    </tr>\n",
       "    <tr>\n",
       "      <th>24</th>\n",
       "      <td>Sergipe</td>\n",
       "      <td>388</td>\n",
       "      <td>2210004</td>\n",
       "      <td>17.56</td>\n",
       "    </tr>\n",
       "    <tr>\n",
       "      <th>25</th>\n",
       "      <td>São Paulo</td>\n",
       "      <td>1517</td>\n",
       "      <td>44411238</td>\n",
       "      <td>3.42</td>\n",
       "    </tr>\n",
       "    <tr>\n",
       "      <th>26</th>\n",
       "      <td>Tocantins</td>\n",
       "      <td>314</td>\n",
       "      <td>1511460</td>\n",
       "      <td>20.77</td>\n",
       "    </tr>\n",
       "  </tbody>\n",
       "</table>\n",
       "</div>"
      ],
      "text/plain": [
       "                     uf   qtd       pop  positivos_100mil_hab\n",
       "0                  Acre   293    830018                 35.30\n",
       "1               Alagoas   232   3127683                  7.42\n",
       "2                 Amapá   117    733759                 15.95\n",
       "3              Amazonas   267   3941613                  6.77\n",
       "4                 Bahia   496  14141626                  3.51\n",
       "5                 Ceará   383   8794957                  4.35\n",
       "6      Distrito Federal   701   2817381                 24.88\n",
       "7        Espírito Santo   827   3833712                 21.57\n",
       "8                 Goiás  1427   7056495                 20.22\n",
       "9              Maranhão   234   6775805                  3.45\n",
       "10          Mato Grosso   564   3658649                 15.42\n",
       "11   Mato Grosso do Sul   421   2757013                 15.27\n",
       "12         Minas Gerais   787  20539989                  3.83\n",
       "13               Paraná   863  11444380                  7.54\n",
       "14              Paraíba   172   3974687                  4.33\n",
       "15                 Pará   256   8121025                  3.15\n",
       "16           Pernambuco   369   9058931                  4.07\n",
       "17                Piauí   402   3271199                 12.29\n",
       "18  Rio Grande do Norte   356   3302729                 10.78\n",
       "19    Rio Grande do Sul   748  10882965                  6.87\n",
       "20       Rio de Janeiro   886  16055174                  5.52\n",
       "21             Rondônia   384   1581196                 24.29\n",
       "22              Roraima   224    636707                 35.18\n",
       "23       Santa Catarina   822   7610361                 10.80\n",
       "24              Sergipe   388   2210004                 17.56\n",
       "25            São Paulo  1517  44411238                  3.42\n",
       "26            Tocantins   314   1511460                 20.77"
      ]
     },
     "execution_count": 139,
     "metadata": {},
     "output_type": "execute_result"
    }
   ],
   "source": [
    "positivos_estados"
   ]
  },
  {
   "cell_type": "code",
   "execution_count": 180,
   "id": "c9582a46",
   "metadata": {},
   "outputs": [
    {
     "data": {
      "image/png": "[encoded data removed]",
      "text/plain": [
       "<Figure size 864x576 with 1 Axes>"
      ]
     },
     "metadata": {
      "needs_background": "light"
     },
     "output_type": "display_data"
    }
   ],
   "source": [
    "plt.figure(figsize=(12, 8))\n",
    "ax = sns.barplot(data=positivos_estados, x='uf', y='positivos_100mil_hab')\n",
    "\n",
    "ax.bar_label(ax.containers[0], fontsize=9)\n",
    "plt.xticks(rotation=90)\n",
    "plt.title('Positivos Covid-19 por Estado por 100mil habitantes')\n",
    "plt.show()"
   ]
  },
  {
   "cell_type": "code",
   "execution_count": 186,
   "id": "6b7cd555",
   "metadata": {},
   "outputs": [
    {
     "data": {
      "text/plain": [
       "Mulher    54.19\n",
       "Homem     45.81\n",
       "Name: sexo, dtype: float64"
      ]
     },
     "execution_count": 186,
     "metadata": {},
     "output_type": "execute_result"
    }
   ],
   "source": [
    "df_positivos['sexo'].value_counts(normalize=True).round(4)*100 #proporção sexo positivo covid-19"
   ]
  },
  {
   "cell_type": "code",
   "execution_count": 179,
   "id": "9549415d",
   "metadata": {},
   "outputs": [
    {
     "data": {
      "image/png": "[encoded data removed]",
      "text/plain": [
       "<Figure size 1080x576 with 1 Axes>"
      ]
     },
     "metadata": {
      "needs_background": "light"
     },
     "output_type": "display_data"
    }
   ],
   "source": [
    "plt.figure(figsize=(15, 8))\n",
    "ax = sns.histplot(data=df_positivos, x='idade', bins = 25)\n",
    "edges = [rect.get_x() for rect in ax.patches] + [ax.patches[-1].get_x() + ax.patches[-1].get_width()]\n",
    "ax.set_xticks(edges)\n",
    "ax.tick_params(axis='x', rotation=90, labelsize=8)\n",
    "plt.title('Frequência das Idades - Positivos Covid-19')\n",
    "plt.show()"
   ]
  },
  {
   "cell_type": "code",
   "execution_count": 208,
   "id": "6b847d29",
   "metadata": {},
   "outputs": [
    {
     "data": {
      "text/plain": [
       "41.068304498269896"
      ]
     },
     "execution_count": 208,
     "metadata": {},
     "output_type": "execute_result"
    }
   ],
   "source": [
    "df_positivos['idade'].mean() #média idade positivos"
   ]
  },
  {
   "cell_type": "code",
   "execution_count": 184,
   "id": "77a0fd3c",
   "metadata": {},
   "outputs": [
    {
     "data": {
      "text/plain": [
       "Branca      47.09\n",
       "Parda       44.12\n",
       "Preta        7.97\n",
       "Indígena     0.38\n",
       "Amarela      0.37\n",
       "Ignorado     0.07\n",
       "Name: cor_raca, dtype: float64"
      ]
     },
     "execution_count": 184,
     "metadata": {},
     "output_type": "execute_result"
    }
   ],
   "source": [
    "df_positivos['cor_raca'].value_counts(normalize=True).round(4)*100 #proporção cor ou raca positivos covid19"
   ]
  },
  {
   "cell_type": "code",
   "execution_count": 183,
   "id": "23518e25",
   "metadata": {
    "scrolled": false
   },
   "outputs": [
    {
     "data": {
      "image/png": "[encoded data removed]",
      "text/plain": [
       "<Figure size 1080x720 with 1 Axes>"
      ]
     },
     "metadata": {
      "needs_background": "light"
     },
     "output_type": "display_data"
    }
   ],
   "source": [
    "plt.figure(figsize=(15, 10))\n",
    "ax = sns.countplot(df_positivos['cor_raca'], order = df_positivos['cor_raca'].value_counts(ascending=False).index)\n",
    "\n",
    "\n",
    "abs_values = df_positivos['cor_raca'].value_counts(ascending=False).values\n",
    "ax.bar_label(container=ax.containers[0], labels=abs_values)\n",
    "\n",
    "plt.title('Quantidade Cor ou Raça - Positivos Covid-19')\n",
    "\n",
    "\n",
    "\n",
    "plt.show()"
   ]
  },
  {
   "cell_type": "markdown",
   "id": "0c2e07a6",
   "metadata": {},
   "source": [
    "## Parte 3 - Características clínicas dos sintomas"
   ]
  },
  {
   "cell_type": "code",
   "execution_count": 196,
   "id": "77e2c8ba",
   "metadata": {},
   "outputs": [],
   "source": [
    "def gravidade_caso(row):\n",
    "    gravidade = ''\n",
    "    if row['sin_febre'] == \"Sim\" or row['sin_tosse'] == \"Sim\" or row['sin_dor_garganta'] == \"Sim\" or row['sin_dor_cabeca'] == \"Sim\" or row['sin_nausea'] == \"Sim\" or row['sin_nariz_entup'] == \"Sim\"or row['sin_fadiga'] == \"Sim\" or row['sin_perda_olf'] == \"Sim\" or row['sin_dor_muscular'] == \"Sim\":\n",
    "        gravidade = 'Leve'\n",
    "        \n",
    "    if row['sin_dific_respirar'] == \"Sim\" or row['si_dor_peito'] == \"Sim\":\n",
    "        gravidade = 'Grave'\n",
    "\n",
    "    if gravidade == '':\n",
    "        gravidade = 'Assintomático'\n",
    "    return gravidade"
   ]
  },
  {
   "cell_type": "code",
   "execution_count": 188,
   "id": "556b0532",
   "metadata": {},
   "outputs": [],
   "source": [
    "df_positivos['gravidade'] = df_positivos.apply(lambda row: gravidade_caso(row), axis=1)"
   ]
  },
  {
   "cell_type": "code",
   "execution_count": 222,
   "id": "acad7c79",
   "metadata": {},
   "outputs": [
    {
     "data": {
      "text/plain": [
       "Assintomático    85.66\n",
       "Leve              9.29\n",
       "Grave             5.05\n",
       "Name: gravidade, dtype: float64"
      ]
     },
     "execution_count": 222,
     "metadata": {},
     "output_type": "execute_result"
    }
   ],
   "source": [
    "df_positivos['gravidade'].value_counts(normalize=True).round(4)*100 #proporção por gravidade do sintoma - positivados"
   ]
  },
  {
   "cell_type": "code",
   "execution_count": 190,
   "id": "7d286c77",
   "metadata": {},
   "outputs": [
    {
     "data": {
      "image/png": "[encoded data removed]",
      "text/plain": [
       "<Figure size 864x576 with 1 Axes>"
      ]
     },
     "metadata": {
      "needs_background": "light"
     },
     "output_type": "display_data"
    }
   ],
   "source": [
    "plt.figure(figsize=(12, 8))\n",
    "ax = sns.countplot(df_positivos['gravidade'], order = df_positivos['gravidade'].value_counts(ascending=False).index)\n",
    "\n",
    "\n",
    "abs_values = df_positivos['gravidade'].value_counts(ascending=False).values\n",
    "ax.bar_label(container=ax.containers[0], labels=abs_values)\n",
    "plt.title('Gravidade dos sintomas - Teste Positivo Covid-19')\n",
    "\n",
    "\n",
    "plt.show()"
   ]
  },
  {
   "cell_type": "code",
   "execution_count": 191,
   "id": "364098c7",
   "metadata": {},
   "outputs": [],
   "source": [
    "df_negativos = df_trabalho[df_trabalho[\"resultado_teste\"] == \"Negativo\"]"
   ]
  },
  {
   "cell_type": "code",
   "execution_count": 223,
   "id": "ae6f8fcd",
   "metadata": {},
   "outputs": [
    {
     "data": {
      "text/plain": [
       "Assintomático    92.47\n",
       "Leve              5.92\n",
       "Grave             1.61\n",
       "Name: gravidade, dtype: float64"
      ]
     },
     "execution_count": 223,
     "metadata": {},
     "output_type": "execute_result"
    }
   ],
   "source": [
    "df_negativos['gravidade'].value_counts(normalize=True).round(4)*100 #proporção por gravidade do sintoma - negativados"
   ]
  },
  {
   "cell_type": "code",
   "execution_count": 197,
   "id": "d1c55175",
   "metadata": {},
   "outputs": [],
   "source": [
    "df_negativos['gravidade'] = df_negativos.apply(lambda row: gravidade_caso(row), axis=1)"
   ]
  },
  {
   "cell_type": "code",
   "execution_count": 199,
   "id": "6f4dc917",
   "metadata": {},
   "outputs": [
    {
     "data": {
      "image/png": "[encoded data removed]",
      "text/plain": [
       "<Figure size 864x576 with 1 Axes>"
      ]
     },
     "metadata": {
      "needs_background": "light"
     },
     "output_type": "display_data"
    }
   ],
   "source": [
    "plt.figure(figsize=(12, 8))\n",
    "ax = sns.countplot(df_negativos['gravidade'], order = df_negativos['gravidade'].value_counts(ascending=False).index)\n",
    "\n",
    "\n",
    "abs_values = df_negativos['gravidade'].value_counts(ascending=False).values\n",
    "ax.bar_label(container=ax.containers[0], labels=abs_values)\n",
    "plt.title('Gravidade dos sintomas - Teste Negativo Covid-19')\n",
    "\n",
    "\n",
    "plt.show()"
   ]
  },
  {
   "cell_type": "code",
   "execution_count": 200,
   "id": "67ed32a1",
   "metadata": {},
   "outputs": [],
   "source": [
    "df_positivos_grave = df_positivos[df_positivos[\"gravidade\"] == \"Grave\"]"
   ]
  },
  {
   "cell_type": "code",
   "execution_count": 202,
   "id": "70c60c80",
   "metadata": {},
   "outputs": [
    {
     "data": {
      "image/png": "[encoded data removed]",
      "text/plain": [
       "<Figure size 1080x576 with 1 Axes>"
      ]
     },
     "metadata": {
      "needs_background": "light"
     },
     "output_type": "display_data"
    }
   ],
   "source": [
    "plt.figure(figsize=(15, 8))\n",
    "ax = sns.histplot(data=df_positivos_grave, x='idade', bins = 25)\n",
    "edges = [rect.get_x() for rect in ax.patches] + [ax.patches[-1].get_x() + ax.patches[-1].get_width()]\n",
    "ax.set_xticks(edges)\n",
    "ax.tick_params(axis='x', rotation=90, labelsize=8)\n",
    "plt.title('Frequência das Idades - Positivos com sintomas graves Covid-19')\n",
    "plt.show()"
   ]
  },
  {
   "cell_type": "code",
   "execution_count": 215,
   "id": "1e365ecf",
   "metadata": {},
   "outputs": [
    {
     "data": {
      "text/plain": [
       "44.556164383561644"
      ]
     },
     "execution_count": 215,
     "metadata": {},
     "output_type": "execute_result"
    }
   ],
   "source": [
    "df_positivos_grave['idade'].mean() #média idade teste positivo com sintomas graves"
   ]
  },
  {
   "cell_type": "code",
   "execution_count": 216,
   "id": "8bc676ab",
   "metadata": {},
   "outputs": [],
   "source": [
    "df_assintomaticos_positivados = df_positivos[df_positivos[\"gravidade\"] == \"Assintomático\"]"
   ]
  },
  {
   "cell_type": "code",
   "execution_count": 217,
   "id": "b8e6a0b0",
   "metadata": {},
   "outputs": [
    {
     "data": {
      "text/plain": [
       "Moderado      7076\n",
       "Sim           3495\n",
       "Totalmente     942\n",
       "Não            833\n",
       "Ignorado        32\n",
       "Name: fez_isolamento, dtype: int64"
      ]
     },
     "execution_count": 217,
     "metadata": {},
     "output_type": "execute_result"
    }
   ],
   "source": [
    "df_assintomaticos_positivados['fez_isolamento'].value_counts()"
   ]
  },
  {
   "cell_type": "code",
   "execution_count": 218,
   "id": "e07ddd25",
   "metadata": {},
   "outputs": [
    {
     "data": {
      "image/png": "[encoded data removed]",
      "text/plain": [
       "<Figure size 864x576 with 1 Axes>"
      ]
     },
     "metadata": {
      "needs_background": "light"
     },
     "output_type": "display_data"
    }
   ],
   "source": [
    "\n",
    "plt.figure(figsize=(12, 8))\n",
    "ax = sns.countplot(df_assintomaticos_positivados['fez_isolamento'], order = df_assintomaticos_positivados['fez_isolamento'].value_counts(ascending=False).index)\n",
    "\n",
    "\n",
    "abs_values = df_assintomaticos_positivados['fez_isolamento'].value_counts(ascending=False).values\n",
    "ax.bar_label(container=ax.containers[0], labels=abs_values)\n",
    "plt.title('Restrição de Contato - Assintomáticos Positivados')\n",
    "\n",
    "\n",
    "plt.show()"
   ]
  },
  {
   "cell_type": "code",
   "execution_count": 224,
   "id": "e2552fdc",
   "metadata": {},
   "outputs": [],
   "source": [
    "df_grave_negativados = df_negativos[df_negativos[\"gravidade\"] == \"Grave\"]"
   ]
  },
  {
   "cell_type": "code",
   "execution_count": 227,
   "id": "0779c5c8",
   "metadata": {},
   "outputs": [
    {
     "data": {
      "text/plain": [
       "Sim    76.29\n",
       "Não    23.71\n",
       "Name: procurou_unid_saude, dtype: float64"
      ]
     },
     "execution_count": 227,
     "metadata": {},
     "output_type": "execute_result"
    }
   ],
   "source": [
    "df_grave_negativados['procurou_unid_saude'].value_counts(normalize=True).round(4)*100 \n",
    "#proporção dos que procuraram unidades de saúde mas testaram negativo e tinham sintomas graves"
   ]
  },
  {
   "cell_type": "markdown",
   "id": "45c8d09b",
   "metadata": {},
   "source": [
    "## Parte 4 - Características econômicas da sociedade"
   ]
  },
  {
   "cell_type": "code",
   "execution_count": 229,
   "id": "c6f5b65c",
   "metadata": {},
   "outputs": [
    {
     "data": {
      "text/plain": [
       "801 - 1.600         3442\n",
       "1.601 - 3.000       2554\n",
       "3.001 - 10.000      1942\n",
       "10.001 - 50.000      409\n",
       "301 - 600            292\n",
       "601 - 800            231\n",
       "0 - 100              170\n",
       "101 - 300             99\n",
       "50.001 - 100.000       1\n",
       "Name: faixa_rendimento, dtype: int64"
      ]
     },
     "execution_count": 229,
     "metadata": {},
     "output_type": "execute_result"
    }
   ],
   "source": [
    "df_positivos['faixa_rendimento'].value_counts()"
   ]
  },
  {
   "cell_type": "code",
   "execution_count": 230,
   "id": "1105590a",
   "metadata": {},
   "outputs": [
    {
     "data": {
      "text/plain": [
       "801 - 1.600         37.66\n",
       "1.601 - 3.000       27.94\n",
       "3.001 - 10.000      21.25\n",
       "10.001 - 50.000      4.47\n",
       "301 - 600            3.19\n",
       "601 - 800            2.53\n",
       "0 - 100              1.86\n",
       "101 - 300            1.08\n",
       "50.001 - 100.000     0.01\n",
       "Name: faixa_rendimento, dtype: float64"
      ]
     },
     "execution_count": 230,
     "metadata": {},
     "output_type": "execute_result"
    }
   ],
   "source": [
    "df_positivos['faixa_rendimento'].value_counts(normalize=True).round(4)*100"
   ]
  },
  {
   "cell_type": "code",
   "execution_count": 231,
   "id": "1f121ca5",
   "metadata": {},
   "outputs": [
    {
     "data": {
      "text/plain": [
       "801 - 1.600         7929\n",
       "1.601 - 3.000       5781\n",
       "3.001 - 10.000      4801\n",
       "10.001 - 50.000     1091\n",
       "301 - 600            800\n",
       "601 - 800            553\n",
       "0 - 100              442\n",
       "101 - 300            275\n",
       "50.001 - 100.000       8\n",
       "+100.000               1\n",
       "Name: faixa_rendimento, dtype: int64"
      ]
     },
     "execution_count": 231,
     "metadata": {},
     "output_type": "execute_result"
    }
   ],
   "source": [
    "df_negativos['faixa_rendimento'].value_counts()"
   ]
  },
  {
   "cell_type": "code",
   "execution_count": 232,
   "id": "684861d8",
   "metadata": {},
   "outputs": [
    {
     "data": {
      "text/plain": [
       "801 - 1.600         36.57\n",
       "1.601 - 3.000       26.66\n",
       "3.001 - 10.000      22.14\n",
       "10.001 - 50.000      5.03\n",
       "301 - 600            3.69\n",
       "601 - 800            2.55\n",
       "0 - 100              2.04\n",
       "101 - 300            1.27\n",
       "50.001 - 100.000     0.04\n",
       "+100.000             0.00\n",
       "Name: faixa_rendimento, dtype: float64"
      ]
     },
     "execution_count": 232,
     "metadata": {},
     "output_type": "execute_result"
    }
   ],
   "source": [
    "df_negativos['faixa_rendimento'].value_counts(normalize=True).round(4)*100"
   ]
  },
  {
   "cell_type": "code",
   "execution_count": 247,
   "id": "98f5c7a8",
   "metadata": {},
   "outputs": [
    {
     "data": {
      "text/plain": [
       "Não    64.96\n",
       "Sim    35.04\n",
       "Name: recebeu_aux, dtype: float64"
      ]
     },
     "execution_count": 247,
     "metadata": {},
     "output_type": "execute_result"
    }
   ],
   "source": [
    "df_positivos['recebeu_aux'].value_counts(normalize=True).round(4)*100"
   ]
  },
  {
   "cell_type": "code",
   "execution_count": 248,
   "id": "da73a5da",
   "metadata": {},
   "outputs": [
    {
     "data": {
      "text/plain": [
       "Não    67.35\n",
       "Sim    32.65\n",
       "Name: recebeu_aux, dtype: float64"
      ]
     },
     "execution_count": 248,
     "metadata": {},
     "output_type": "execute_result"
    }
   ],
   "source": [
    "df_negativos['recebeu_aux'].value_counts(normalize=True).round(4)*100"
   ]
  },
  {
   "cell_type": "code",
   "execution_count": null,
   "id": "d7ca4238",
   "metadata": {},
   "outputs": [],
   "source": []
  },
  {
   "cell_type": "code",
   "execution_count": null,
   "id": "c955ca2d",
   "metadata": {},
   "outputs": [],
   "source": []
  },
  {
   "cell_type": "code",
   "execution_count": null,
   "id": "8170d218",
   "metadata": {},
   "outputs": [],
   "source": []
  },
  {
   "cell_type": "code",
   "execution_count": null,
   "id": "957a0097",
   "metadata": {},
   "outputs": [],
   "source": []
  },
  {
   "cell_type": "code",
   "execution_count": null,
   "id": "d6a3d800",
   "metadata": {},
   "outputs": [],
   "source": []
  },
  {
   "cell_type": "code",
   "execution_count": null,
   "id": "721bae7f",
   "metadata": {},
   "outputs": [],
   "source": []
  },
  {
   "cell_type": "markdown",
   "id": "d8c38ffc",
   "metadata": {},
   "source": [
    "## Outros códigos"
   ]
  },
  {
   "cell_type": "code",
   "execution_count": 34,
   "id": "415cd4df",
   "metadata": {},
   "outputs": [
    {
     "data": {
      "text/plain": [
       "Negativo                         68.52\n",
       "Positivo                         28.37\n",
       "Ainda não recebeu o resultado     2.55\n",
       "Inconclusivo                      0.55\n",
       "Ignorado                          0.01\n",
       "Name: resultado_teste, dtype: float64"
      ]
     },
     "execution_count": 34,
     "metadata": {},
     "output_type": "execute_result"
    }
   ],
   "source": [
    "df_testados['resultado_teste'].value_counts(normalize=True).round(4)*100 #proporção do resultado dos testes"
   ]
  },
  {
   "cell_type": "code",
   "execution_count": 35,
   "id": "c5cfb949",
   "metadata": {},
   "outputs": [],
   "source": [
    "df_positivos = df_trabalho[df_trabalho[\"resultado_teste\"] == \"Positivo\"]"
   ]
  },
  {
   "cell_type": "code",
   "execution_count": 36,
   "id": "8f4f7f77",
   "metadata": {},
   "outputs": [
    {
     "data": {
      "text/plain": [
       "(14450, 20)"
      ]
     },
     "execution_count": 36,
     "metadata": {},
     "output_type": "execute_result"
    }
   ],
   "source": [
    "df_positivos.shape"
   ]
  },
  {
   "cell_type": "code",
   "execution_count": 37,
   "id": "ac39aa64",
   "metadata": {},
   "outputs": [
    {
     "data": {
      "text/plain": [
       "Mulher    54.19\n",
       "Homem     45.81\n",
       "Name: sexo, dtype: float64"
      ]
     },
     "execution_count": 37,
     "metadata": {},
     "output_type": "execute_result"
    }
   ],
   "source": [
    "df_positivos['sexo'].value_counts(normalize=True).round(4)*100 #positivados por sexo"
   ]
  },
  {
   "cell_type": "code",
   "execution_count": 38,
   "id": "317a78f1",
   "metadata": {},
   "outputs": [
    {
     "data": {
      "text/plain": [
       "Branca      47.09\n",
       "Parda       44.12\n",
       "Preta        7.97\n",
       "Indígena     0.38\n",
       "Amarela      0.37\n",
       "Ignorado     0.07\n",
       "Name: cor_raca, dtype: float64"
      ]
     },
     "execution_count": 38,
     "metadata": {},
     "output_type": "execute_result"
    }
   ],
   "source": [
    "df_positivos['cor_raca'].value_counts(normalize=True).round(4)*100 #positivados por raca"
   ]
  },
  {
   "cell_type": "code",
   "execution_count": 39,
   "id": "2734f1f9",
   "metadata": {},
   "outputs": [
    {
     "data": {
      "text/plain": [
       "São Paulo              10.50\n",
       "Goiás                   9.88\n",
       "Rio de Janeiro          6.13\n",
       "Paraná                  5.97\n",
       "Espírito Santo          5.72\n",
       "Santa Catarina          5.69\n",
       "Minas Gerais            5.45\n",
       "Rio Grande do Sul       5.18\n",
       "Distrito Federal        4.85\n",
       "Mato Grosso             3.90\n",
       "Bahia                   3.43\n",
       "Mato Grosso do Sul      2.91\n",
       "Piauí                   2.78\n",
       "Sergipe                 2.69\n",
       "Rondônia                2.66\n",
       "Ceará                   2.65\n",
       "Pernambuco              2.55\n",
       "Rio Grande do Norte     2.46\n",
       "Tocantins               2.17\n",
       "Acre                    2.03\n",
       "Amazonas                1.85\n",
       "Pará                    1.77\n",
       "Maranhão                1.62\n",
       "Alagoas                 1.61\n",
       "Roraima                 1.55\n",
       "Paraíba                 1.19\n",
       "Amapá                   0.81\n",
       "Name: uf, dtype: float64"
      ]
     },
     "execution_count": 39,
     "metadata": {},
     "output_type": "execute_result"
    }
   ],
   "source": [
    "df_positivos['uf'].value_counts(normalize=True).round(4)*100 #proporção por estado do total de positivados"
   ]
  },
  {
   "cell_type": "code",
   "execution_count": 40,
   "id": "f5ef5f4b",
   "metadata": {},
   "outputs": [
    {
     "data": {
      "image/png": "[encoded data removed]",
      "text/plain": [
       "<Figure size 432x288 with 1 Axes>"
      ]
     },
     "metadata": {
      "needs_background": "light"
     },
     "output_type": "display_data"
    }
   ],
   "source": [
    "sns.boxplot(data=df_positivos,y='idade', x='sexo') #distribuição das idades por sexo\n",
    "plt.title('Positivados - Idade e Sexo')\n",
    "plt.show()"
   ]
  },
  {
   "cell_type": "code",
   "execution_count": 41,
   "id": "373eb052",
   "metadata": {},
   "outputs": [
    {
     "data": {
      "image/png": "[encoded data removed]",
      "text/plain": [
       "<Figure size 432x288 with 1 Axes>"
      ]
     },
     "metadata": {
      "needs_background": "light"
     },
     "output_type": "display_data"
    }
   ],
   "source": [
    "sns.boxplot(data=df_positivos,y='idade', x='cor_raca') #distribuição das idades por cor_raca\n",
    "plt.title('Positivados - Idade x Cor_raça')\n",
    "plt.show()"
   ]
  },
  {
   "cell_type": "code",
   "execution_count": 42,
   "id": "53917a27",
   "metadata": {},
   "outputs": [
    {
     "data": {
      "text/plain": [
       "uf\n",
       "Alagoas                44.4\n",
       "Pará                   44.4\n",
       "Rio de Janeiro         43.7\n",
       "Distrito Federal       42.8\n",
       "Espírito Santo         42.4\n",
       "São Paulo              42.3\n",
       "Ceará                  42.2\n",
       "Goiás                  41.6\n",
       "Rio Grande do Norte    41.4\n",
       "Paraíba                41.3\n",
       "Rio Grande do Sul      41.2\n",
       "Pernambuco             41.0\n",
       "Paraná                 41.0\n",
       "Bahia                  40.6\n",
       "Amazonas               40.4\n",
       "Piauí                  40.3\n",
       "Sergipe                40.3\n",
       "Minas Gerais           40.2\n",
       "Santa Catarina         39.9\n",
       "Rondônia               39.7\n",
       "Maranhão               39.1\n",
       "Mato Grosso do Sul     39.1\n",
       "Mato Grosso            39.0\n",
       "Amapá                  37.3\n",
       "Tocantins              37.2\n",
       "Roraima                36.9\n",
       "Acre                   36.6\n",
       "Name: idade, dtype: float64"
      ]
     },
     "execution_count": 42,
     "metadata": {},
     "output_type": "execute_result"
    }
   ],
   "source": [
    "df_positivos.groupby('uf')['idade'].mean().sort_values(ascending=False).round(1) #média de idade por estado"
   ]
  },
  {
   "cell_type": "code",
   "execution_count": 43,
   "id": "8120b571",
   "metadata": {},
   "outputs": [],
   "source": [
    "df_sintomas = df_positivos[lista_colunas_sintomas]"
   ]
  },
  {
   "cell_type": "code",
   "execution_count": 44,
   "id": "bad9f13f",
   "metadata": {},
   "outputs": [
    {
     "data": {
      "text/html": [
       "<div>\n",
       "<style scoped>\n",
       "    .dataframe tbody tr th:only-of-type {\n",
       "        vertical-align: middle;\n",
       "    }\n",
       "\n",
       "    .dataframe tbody tr th {\n",
       "        vertical-align: top;\n",
       "    }\n",
       "\n",
       "    .dataframe thead th {\n",
       "        text-align: right;\n",
       "    }\n",
       "</style>\n",
       "<table border=\"1\" class=\"dataframe\">\n",
       "  <thead>\n",
       "    <tr style=\"text-align: right;\">\n",
       "      <th></th>\n",
       "      <th>sin_febre</th>\n",
       "      <th>sin_tosse</th>\n",
       "      <th>sin_dor_garganta</th>\n",
       "      <th>sin_dific_respirar</th>\n",
       "      <th>sin_dor_cabeca</th>\n",
       "      <th>si_dor_peito</th>\n",
       "      <th>sin_nausea</th>\n",
       "      <th>sin_nariz_entup</th>\n",
       "      <th>sin_fadiga</th>\n",
       "      <th>sin_perda_olf</th>\n",
       "      <th>sin_dor_muscular</th>\n",
       "    </tr>\n",
       "  </thead>\n",
       "  <tbody>\n",
       "    <tr>\n",
       "      <th>23</th>\n",
       "      <td>Não</td>\n",
       "      <td>Não</td>\n",
       "      <td>Não</td>\n",
       "      <td>Não</td>\n",
       "      <td>Não</td>\n",
       "      <td>Não</td>\n",
       "      <td>Não</td>\n",
       "      <td>Não</td>\n",
       "      <td>Não</td>\n",
       "      <td>Não</td>\n",
       "      <td>Não</td>\n",
       "    </tr>\n",
       "    <tr>\n",
       "      <th>52</th>\n",
       "      <td>Não</td>\n",
       "      <td>Não</td>\n",
       "      <td>Não</td>\n",
       "      <td>Não</td>\n",
       "      <td>Não</td>\n",
       "      <td>Não</td>\n",
       "      <td>Não</td>\n",
       "      <td>Não</td>\n",
       "      <td>Não</td>\n",
       "      <td>Não</td>\n",
       "      <td>Não</td>\n",
       "    </tr>\n",
       "    <tr>\n",
       "      <th>55</th>\n",
       "      <td>Não</td>\n",
       "      <td>Não</td>\n",
       "      <td>Não</td>\n",
       "      <td>Não</td>\n",
       "      <td>Não</td>\n",
       "      <td>Não</td>\n",
       "      <td>Não</td>\n",
       "      <td>Não</td>\n",
       "      <td>Não</td>\n",
       "      <td>Não</td>\n",
       "      <td>Não</td>\n",
       "    </tr>\n",
       "    <tr>\n",
       "      <th>158</th>\n",
       "      <td>Não</td>\n",
       "      <td>Não</td>\n",
       "      <td>Não</td>\n",
       "      <td>Não</td>\n",
       "      <td>Não</td>\n",
       "      <td>Não</td>\n",
       "      <td>Não</td>\n",
       "      <td>Não</td>\n",
       "      <td>Não</td>\n",
       "      <td>Não</td>\n",
       "      <td>Não</td>\n",
       "    </tr>\n",
       "    <tr>\n",
       "      <th>215</th>\n",
       "      <td>Sim</td>\n",
       "      <td>Sim</td>\n",
       "      <td>Sim</td>\n",
       "      <td>Sim</td>\n",
       "      <td>Sim</td>\n",
       "      <td>Sim</td>\n",
       "      <td>Sim</td>\n",
       "      <td>Sim</td>\n",
       "      <td>Sim</td>\n",
       "      <td>Não</td>\n",
       "      <td>Sim</td>\n",
       "    </tr>\n",
       "    <tr>\n",
       "      <th>...</th>\n",
       "      <td>...</td>\n",
       "      <td>...</td>\n",
       "      <td>...</td>\n",
       "      <td>...</td>\n",
       "      <td>...</td>\n",
       "      <td>...</td>\n",
       "      <td>...</td>\n",
       "      <td>...</td>\n",
       "      <td>...</td>\n",
       "      <td>...</td>\n",
       "      <td>...</td>\n",
       "    </tr>\n",
       "    <tr>\n",
       "      <th>1149129</th>\n",
       "      <td>Não</td>\n",
       "      <td>Não</td>\n",
       "      <td>Não</td>\n",
       "      <td>Não</td>\n",
       "      <td>Não</td>\n",
       "      <td>Não</td>\n",
       "      <td>Não</td>\n",
       "      <td>Não</td>\n",
       "      <td>Não</td>\n",
       "      <td>Não</td>\n",
       "      <td>Não</td>\n",
       "    </tr>\n",
       "    <tr>\n",
       "      <th>1149130</th>\n",
       "      <td>Não</td>\n",
       "      <td>Não</td>\n",
       "      <td>Não</td>\n",
       "      <td>Não</td>\n",
       "      <td>Não</td>\n",
       "      <td>Não</td>\n",
       "      <td>Não</td>\n",
       "      <td>Não</td>\n",
       "      <td>Não</td>\n",
       "      <td>Não</td>\n",
       "      <td>Não</td>\n",
       "    </tr>\n",
       "    <tr>\n",
       "      <th>1149131</th>\n",
       "      <td>Não</td>\n",
       "      <td>Não</td>\n",
       "      <td>Não</td>\n",
       "      <td>Não</td>\n",
       "      <td>Não</td>\n",
       "      <td>Não</td>\n",
       "      <td>Não</td>\n",
       "      <td>Não</td>\n",
       "      <td>Não</td>\n",
       "      <td>Não</td>\n",
       "      <td>Não</td>\n",
       "    </tr>\n",
       "    <tr>\n",
       "      <th>1149132</th>\n",
       "      <td>Não</td>\n",
       "      <td>Não</td>\n",
       "      <td>Não</td>\n",
       "      <td>Não</td>\n",
       "      <td>Não</td>\n",
       "      <td>Não</td>\n",
       "      <td>Não</td>\n",
       "      <td>Não</td>\n",
       "      <td>Não</td>\n",
       "      <td>Não</td>\n",
       "      <td>Não</td>\n",
       "    </tr>\n",
       "    <tr>\n",
       "      <th>1149133</th>\n",
       "      <td>Não</td>\n",
       "      <td>Não</td>\n",
       "      <td>Não</td>\n",
       "      <td>Não</td>\n",
       "      <td>Não</td>\n",
       "      <td>Não</td>\n",
       "      <td>Não</td>\n",
       "      <td>Não</td>\n",
       "      <td>Não</td>\n",
       "      <td>Não</td>\n",
       "      <td>Não</td>\n",
       "    </tr>\n",
       "  </tbody>\n",
       "</table>\n",
       "<p>14450 rows × 11 columns</p>\n",
       "</div>"
      ],
      "text/plain": [
       "        sin_febre sin_tosse sin_dor_garganta sin_dific_respirar  \\\n",
       "23            Não       Não              Não                Não   \n",
       "52            Não       Não              Não                Não   \n",
       "55            Não       Não              Não                Não   \n",
       "158           Não       Não              Não                Não   \n",
       "215           Sim       Sim              Sim                Sim   \n",
       "...           ...       ...              ...                ...   \n",
       "1149129       Não       Não              Não                Não   \n",
       "1149130       Não       Não              Não                Não   \n",
       "1149131       Não       Não              Não                Não   \n",
       "1149132       Não       Não              Não                Não   \n",
       "1149133       Não       Não              Não                Não   \n",
       "\n",
       "        sin_dor_cabeca si_dor_peito sin_nausea sin_nariz_entup sin_fadiga  \\\n",
       "23                 Não          Não        Não             Não        Não   \n",
       "52                 Não          Não        Não             Não        Não   \n",
       "55                 Não          Não        Não             Não        Não   \n",
       "158                Não          Não        Não             Não        Não   \n",
       "215                Sim          Sim        Sim             Sim        Sim   \n",
       "...                ...          ...        ...             ...        ...   \n",
       "1149129            Não          Não        Não             Não        Não   \n",
       "1149130            Não          Não        Não             Não        Não   \n",
       "1149131            Não          Não        Não             Não        Não   \n",
       "1149132            Não          Não        Não             Não        Não   \n",
       "1149133            Não          Não        Não             Não        Não   \n",
       "\n",
       "        sin_perda_olf sin_dor_muscular  \n",
       "23                Não              Não  \n",
       "52                Não              Não  \n",
       "55                Não              Não  \n",
       "158               Não              Não  \n",
       "215               Não              Sim  \n",
       "...               ...              ...  \n",
       "1149129           Não              Não  \n",
       "1149130           Não              Não  \n",
       "1149131           Não              Não  \n",
       "1149132           Não              Não  \n",
       "1149133           Não              Não  \n",
       "\n",
       "[14450 rows x 11 columns]"
      ]
     },
     "execution_count": 44,
     "metadata": {},
     "output_type": "execute_result"
    }
   ],
   "source": [
    "df_sintomas"
   ]
  },
  {
   "cell_type": "code",
   "execution_count": 45,
   "id": "2d45d09f",
   "metadata": {},
   "outputs": [],
   "source": [
    "sintomas_sim_nao_dict = {\n",
    "    \"Sim\": 1,\n",
    "    \"Não\": 0\n",
    "}\n",
    "\n"
   ]
  },
  {
   "cell_type": "code",
   "execution_count": 46,
   "id": "0fb867f0",
   "metadata": {},
   "outputs": [],
   "source": [
    "for coll in lista_colunas_sintomas:\n",
    "  df_sintomas[coll] = df_sintomas[coll].map(sintomas_sim_nao_dict)"
   ]
  },
  {
   "cell_type": "code",
   "execution_count": 47,
   "id": "945b9e05",
   "metadata": {},
   "outputs": [
    {
     "data": {
      "text/html": [
       "<div>\n",
       "<style scoped>\n",
       "    .dataframe tbody tr th:only-of-type {\n",
       "        vertical-align: middle;\n",
       "    }\n",
       "\n",
       "    .dataframe tbody tr th {\n",
       "        vertical-align: top;\n",
       "    }\n",
       "\n",
       "    .dataframe thead th {\n",
       "        text-align: right;\n",
       "    }\n",
       "</style>\n",
       "<table border=\"1\" class=\"dataframe\">\n",
       "  <thead>\n",
       "    <tr style=\"text-align: right;\">\n",
       "      <th></th>\n",
       "      <th>sin_febre</th>\n",
       "      <th>sin_tosse</th>\n",
       "      <th>sin_dor_garganta</th>\n",
       "      <th>sin_dific_respirar</th>\n",
       "      <th>sin_dor_cabeca</th>\n",
       "      <th>si_dor_peito</th>\n",
       "      <th>sin_nausea</th>\n",
       "      <th>sin_nariz_entup</th>\n",
       "      <th>sin_fadiga</th>\n",
       "      <th>sin_perda_olf</th>\n",
       "      <th>sin_dor_muscular</th>\n",
       "    </tr>\n",
       "  </thead>\n",
       "  <tbody>\n",
       "    <tr>\n",
       "      <th>23</th>\n",
       "      <td>0.0</td>\n",
       "      <td>0.0</td>\n",
       "      <td>0.0</td>\n",
       "      <td>0.0</td>\n",
       "      <td>0.0</td>\n",
       "      <td>0.0</td>\n",
       "      <td>0.0</td>\n",
       "      <td>0.0</td>\n",
       "      <td>0.0</td>\n",
       "      <td>0.0</td>\n",
       "      <td>0.0</td>\n",
       "    </tr>\n",
       "    <tr>\n",
       "      <th>52</th>\n",
       "      <td>0.0</td>\n",
       "      <td>0.0</td>\n",
       "      <td>0.0</td>\n",
       "      <td>0.0</td>\n",
       "      <td>0.0</td>\n",
       "      <td>0.0</td>\n",
       "      <td>0.0</td>\n",
       "      <td>0.0</td>\n",
       "      <td>0.0</td>\n",
       "      <td>0.0</td>\n",
       "      <td>0.0</td>\n",
       "    </tr>\n",
       "    <tr>\n",
       "      <th>55</th>\n",
       "      <td>0.0</td>\n",
       "      <td>0.0</td>\n",
       "      <td>0.0</td>\n",
       "      <td>0.0</td>\n",
       "      <td>0.0</td>\n",
       "      <td>0.0</td>\n",
       "      <td>0.0</td>\n",
       "      <td>0.0</td>\n",
       "      <td>0.0</td>\n",
       "      <td>0.0</td>\n",
       "      <td>0.0</td>\n",
       "    </tr>\n",
       "    <tr>\n",
       "      <th>158</th>\n",
       "      <td>0.0</td>\n",
       "      <td>0.0</td>\n",
       "      <td>0.0</td>\n",
       "      <td>0.0</td>\n",
       "      <td>0.0</td>\n",
       "      <td>0.0</td>\n",
       "      <td>0.0</td>\n",
       "      <td>0.0</td>\n",
       "      <td>0.0</td>\n",
       "      <td>0.0</td>\n",
       "      <td>0.0</td>\n",
       "    </tr>\n",
       "    <tr>\n",
       "      <th>215</th>\n",
       "      <td>1.0</td>\n",
       "      <td>1.0</td>\n",
       "      <td>1.0</td>\n",
       "      <td>1.0</td>\n",
       "      <td>1.0</td>\n",
       "      <td>1.0</td>\n",
       "      <td>1.0</td>\n",
       "      <td>1.0</td>\n",
       "      <td>1.0</td>\n",
       "      <td>0.0</td>\n",
       "      <td>1.0</td>\n",
       "    </tr>\n",
       "    <tr>\n",
       "      <th>...</th>\n",
       "      <td>...</td>\n",
       "      <td>...</td>\n",
       "      <td>...</td>\n",
       "      <td>...</td>\n",
       "      <td>...</td>\n",
       "      <td>...</td>\n",
       "      <td>...</td>\n",
       "      <td>...</td>\n",
       "      <td>...</td>\n",
       "      <td>...</td>\n",
       "      <td>...</td>\n",
       "    </tr>\n",
       "    <tr>\n",
       "      <th>1149129</th>\n",
       "      <td>0.0</td>\n",
       "      <td>0.0</td>\n",
       "      <td>0.0</td>\n",
       "      <td>0.0</td>\n",
       "      <td>0.0</td>\n",
       "      <td>0.0</td>\n",
       "      <td>0.0</td>\n",
       "      <td>0.0</td>\n",
       "      <td>0.0</td>\n",
       "      <td>0.0</td>\n",
       "      <td>0.0</td>\n",
       "    </tr>\n",
       "    <tr>\n",
       "      <th>1149130</th>\n",
       "      <td>0.0</td>\n",
       "      <td>0.0</td>\n",
       "      <td>0.0</td>\n",
       "      <td>0.0</td>\n",
       "      <td>0.0</td>\n",
       "      <td>0.0</td>\n",
       "      <td>0.0</td>\n",
       "      <td>0.0</td>\n",
       "      <td>0.0</td>\n",
       "      <td>0.0</td>\n",
       "      <td>0.0</td>\n",
       "    </tr>\n",
       "    <tr>\n",
       "      <th>1149131</th>\n",
       "      <td>0.0</td>\n",
       "      <td>0.0</td>\n",
       "      <td>0.0</td>\n",
       "      <td>0.0</td>\n",
       "      <td>0.0</td>\n",
       "      <td>0.0</td>\n",
       "      <td>0.0</td>\n",
       "      <td>0.0</td>\n",
       "      <td>0.0</td>\n",
       "      <td>0.0</td>\n",
       "      <td>0.0</td>\n",
       "    </tr>\n",
       "    <tr>\n",
       "      <th>1149132</th>\n",
       "      <td>0.0</td>\n",
       "      <td>0.0</td>\n",
       "      <td>0.0</td>\n",
       "      <td>0.0</td>\n",
       "      <td>0.0</td>\n",
       "      <td>0.0</td>\n",
       "      <td>0.0</td>\n",
       "      <td>0.0</td>\n",
       "      <td>0.0</td>\n",
       "      <td>0.0</td>\n",
       "      <td>0.0</td>\n",
       "    </tr>\n",
       "    <tr>\n",
       "      <th>1149133</th>\n",
       "      <td>0.0</td>\n",
       "      <td>0.0</td>\n",
       "      <td>0.0</td>\n",
       "      <td>0.0</td>\n",
       "      <td>0.0</td>\n",
       "      <td>0.0</td>\n",
       "      <td>0.0</td>\n",
       "      <td>0.0</td>\n",
       "      <td>0.0</td>\n",
       "      <td>0.0</td>\n",
       "      <td>0.0</td>\n",
       "    </tr>\n",
       "  </tbody>\n",
       "</table>\n",
       "<p>14450 rows × 11 columns</p>\n",
       "</div>"
      ],
      "text/plain": [
       "         sin_febre  sin_tosse  sin_dor_garganta  sin_dific_respirar  \\\n",
       "23             0.0        0.0               0.0                 0.0   \n",
       "52             0.0        0.0               0.0                 0.0   \n",
       "55             0.0        0.0               0.0                 0.0   \n",
       "158            0.0        0.0               0.0                 0.0   \n",
       "215            1.0        1.0               1.0                 1.0   \n",
       "...            ...        ...               ...                 ...   \n",
       "1149129        0.0        0.0               0.0                 0.0   \n",
       "1149130        0.0        0.0               0.0                 0.0   \n",
       "1149131        0.0        0.0               0.0                 0.0   \n",
       "1149132        0.0        0.0               0.0                 0.0   \n",
       "1149133        0.0        0.0               0.0                 0.0   \n",
       "\n",
       "         sin_dor_cabeca  si_dor_peito  sin_nausea  sin_nariz_entup  \\\n",
       "23                  0.0           0.0         0.0              0.0   \n",
       "52                  0.0           0.0         0.0              0.0   \n",
       "55                  0.0           0.0         0.0              0.0   \n",
       "158                 0.0           0.0         0.0              0.0   \n",
       "215                 1.0           1.0         1.0              1.0   \n",
       "...                 ...           ...         ...              ...   \n",
       "1149129             0.0           0.0         0.0              0.0   \n",
       "1149130             0.0           0.0         0.0              0.0   \n",
       "1149131             0.0           0.0         0.0              0.0   \n",
       "1149132             0.0           0.0         0.0              0.0   \n",
       "1149133             0.0           0.0         0.0              0.0   \n",
       "\n",
       "         sin_fadiga  sin_perda_olf  sin_dor_muscular  \n",
       "23              0.0            0.0               0.0  \n",
       "52              0.0            0.0               0.0  \n",
       "55              0.0            0.0               0.0  \n",
       "158             0.0            0.0               0.0  \n",
       "215             1.0            0.0               1.0  \n",
       "...             ...            ...               ...  \n",
       "1149129         0.0            0.0               0.0  \n",
       "1149130         0.0            0.0               0.0  \n",
       "1149131         0.0            0.0               0.0  \n",
       "1149132         0.0            0.0               0.0  \n",
       "1149133         0.0            0.0               0.0  \n",
       "\n",
       "[14450 rows x 11 columns]"
      ]
     },
     "execution_count": 47,
     "metadata": {},
     "output_type": "execute_result"
    }
   ],
   "source": [
    "df_sintomas"
   ]
  },
  {
   "cell_type": "code",
   "execution_count": 48,
   "id": "6ac9ef3c",
   "metadata": {},
   "outputs": [],
   "source": [
    "df_sintomas['total_sintomas'] = df_sintomas.sum(axis=1)"
   ]
  },
  {
   "cell_type": "code",
   "execution_count": 49,
   "id": "baffb104",
   "metadata": {},
   "outputs": [
    {
     "data": {
      "text/html": [
       "<div>\n",
       "<style scoped>\n",
       "    .dataframe tbody tr th:only-of-type {\n",
       "        vertical-align: middle;\n",
       "    }\n",
       "\n",
       "    .dataframe tbody tr th {\n",
       "        vertical-align: top;\n",
       "    }\n",
       "\n",
       "    .dataframe thead th {\n",
       "        text-align: right;\n",
       "    }\n",
       "</style>\n",
       "<table border=\"1\" class=\"dataframe\">\n",
       "  <thead>\n",
       "    <tr style=\"text-align: right;\">\n",
       "      <th></th>\n",
       "      <th>sin_febre</th>\n",
       "      <th>sin_tosse</th>\n",
       "      <th>sin_dor_garganta</th>\n",
       "      <th>sin_dific_respirar</th>\n",
       "      <th>sin_dor_cabeca</th>\n",
       "      <th>si_dor_peito</th>\n",
       "      <th>sin_nausea</th>\n",
       "      <th>sin_nariz_entup</th>\n",
       "      <th>sin_fadiga</th>\n",
       "      <th>sin_perda_olf</th>\n",
       "      <th>sin_dor_muscular</th>\n",
       "      <th>total_sintomas</th>\n",
       "    </tr>\n",
       "  </thead>\n",
       "  <tbody>\n",
       "    <tr>\n",
       "      <th>23</th>\n",
       "      <td>0.0</td>\n",
       "      <td>0.0</td>\n",
       "      <td>0.0</td>\n",
       "      <td>0.0</td>\n",
       "      <td>0.0</td>\n",
       "      <td>0.0</td>\n",
       "      <td>0.0</td>\n",
       "      <td>0.0</td>\n",
       "      <td>0.0</td>\n",
       "      <td>0.0</td>\n",
       "      <td>0.0</td>\n",
       "      <td>0.0</td>\n",
       "    </tr>\n",
       "    <tr>\n",
       "      <th>52</th>\n",
       "      <td>0.0</td>\n",
       "      <td>0.0</td>\n",
       "      <td>0.0</td>\n",
       "      <td>0.0</td>\n",
       "      <td>0.0</td>\n",
       "      <td>0.0</td>\n",
       "      <td>0.0</td>\n",
       "      <td>0.0</td>\n",
       "      <td>0.0</td>\n",
       "      <td>0.0</td>\n",
       "      <td>0.0</td>\n",
       "      <td>0.0</td>\n",
       "    </tr>\n",
       "    <tr>\n",
       "      <th>55</th>\n",
       "      <td>0.0</td>\n",
       "      <td>0.0</td>\n",
       "      <td>0.0</td>\n",
       "      <td>0.0</td>\n",
       "      <td>0.0</td>\n",
       "      <td>0.0</td>\n",
       "      <td>0.0</td>\n",
       "      <td>0.0</td>\n",
       "      <td>0.0</td>\n",
       "      <td>0.0</td>\n",
       "      <td>0.0</td>\n",
       "      <td>0.0</td>\n",
       "    </tr>\n",
       "    <tr>\n",
       "      <th>158</th>\n",
       "      <td>0.0</td>\n",
       "      <td>0.0</td>\n",
       "      <td>0.0</td>\n",
       "      <td>0.0</td>\n",
       "      <td>0.0</td>\n",
       "      <td>0.0</td>\n",
       "      <td>0.0</td>\n",
       "      <td>0.0</td>\n",
       "      <td>0.0</td>\n",
       "      <td>0.0</td>\n",
       "      <td>0.0</td>\n",
       "      <td>0.0</td>\n",
       "    </tr>\n",
       "    <tr>\n",
       "      <th>215</th>\n",
       "      <td>1.0</td>\n",
       "      <td>1.0</td>\n",
       "      <td>1.0</td>\n",
       "      <td>1.0</td>\n",
       "      <td>1.0</td>\n",
       "      <td>1.0</td>\n",
       "      <td>1.0</td>\n",
       "      <td>1.0</td>\n",
       "      <td>1.0</td>\n",
       "      <td>0.0</td>\n",
       "      <td>1.0</td>\n",
       "      <td>10.0</td>\n",
       "    </tr>\n",
       "    <tr>\n",
       "      <th>...</th>\n",
       "      <td>...</td>\n",
       "      <td>...</td>\n",
       "      <td>...</td>\n",
       "      <td>...</td>\n",
       "      <td>...</td>\n",
       "      <td>...</td>\n",
       "      <td>...</td>\n",
       "      <td>...</td>\n",
       "      <td>...</td>\n",
       "      <td>...</td>\n",
       "      <td>...</td>\n",
       "      <td>...</td>\n",
       "    </tr>\n",
       "    <tr>\n",
       "      <th>1149129</th>\n",
       "      <td>0.0</td>\n",
       "      <td>0.0</td>\n",
       "      <td>0.0</td>\n",
       "      <td>0.0</td>\n",
       "      <td>0.0</td>\n",
       "      <td>0.0</td>\n",
       "      <td>0.0</td>\n",
       "      <td>0.0</td>\n",
       "      <td>0.0</td>\n",
       "      <td>0.0</td>\n",
       "      <td>0.0</td>\n",
       "      <td>0.0</td>\n",
       "    </tr>\n",
       "    <tr>\n",
       "      <th>1149130</th>\n",
       "      <td>0.0</td>\n",
       "      <td>0.0</td>\n",
       "      <td>0.0</td>\n",
       "      <td>0.0</td>\n",
       "      <td>0.0</td>\n",
       "      <td>0.0</td>\n",
       "      <td>0.0</td>\n",
       "      <td>0.0</td>\n",
       "      <td>0.0</td>\n",
       "      <td>0.0</td>\n",
       "      <td>0.0</td>\n",
       "      <td>0.0</td>\n",
       "    </tr>\n",
       "    <tr>\n",
       "      <th>1149131</th>\n",
       "      <td>0.0</td>\n",
       "      <td>0.0</td>\n",
       "      <td>0.0</td>\n",
       "      <td>0.0</td>\n",
       "      <td>0.0</td>\n",
       "      <td>0.0</td>\n",
       "      <td>0.0</td>\n",
       "      <td>0.0</td>\n",
       "      <td>0.0</td>\n",
       "      <td>0.0</td>\n",
       "      <td>0.0</td>\n",
       "      <td>0.0</td>\n",
       "    </tr>\n",
       "    <tr>\n",
       "      <th>1149132</th>\n",
       "      <td>0.0</td>\n",
       "      <td>0.0</td>\n",
       "      <td>0.0</td>\n",
       "      <td>0.0</td>\n",
       "      <td>0.0</td>\n",
       "      <td>0.0</td>\n",
       "      <td>0.0</td>\n",
       "      <td>0.0</td>\n",
       "      <td>0.0</td>\n",
       "      <td>0.0</td>\n",
       "      <td>0.0</td>\n",
       "      <td>0.0</td>\n",
       "    </tr>\n",
       "    <tr>\n",
       "      <th>1149133</th>\n",
       "      <td>0.0</td>\n",
       "      <td>0.0</td>\n",
       "      <td>0.0</td>\n",
       "      <td>0.0</td>\n",
       "      <td>0.0</td>\n",
       "      <td>0.0</td>\n",
       "      <td>0.0</td>\n",
       "      <td>0.0</td>\n",
       "      <td>0.0</td>\n",
       "      <td>0.0</td>\n",
       "      <td>0.0</td>\n",
       "      <td>0.0</td>\n",
       "    </tr>\n",
       "  </tbody>\n",
       "</table>\n",
       "<p>14450 rows × 12 columns</p>\n",
       "</div>"
      ],
      "text/plain": [
       "         sin_febre  sin_tosse  sin_dor_garganta  sin_dific_respirar  \\\n",
       "23             0.0        0.0               0.0                 0.0   \n",
       "52             0.0        0.0               0.0                 0.0   \n",
       "55             0.0        0.0               0.0                 0.0   \n",
       "158            0.0        0.0               0.0                 0.0   \n",
       "215            1.0        1.0               1.0                 1.0   \n",
       "...            ...        ...               ...                 ...   \n",
       "1149129        0.0        0.0               0.0                 0.0   \n",
       "1149130        0.0        0.0               0.0                 0.0   \n",
       "1149131        0.0        0.0               0.0                 0.0   \n",
       "1149132        0.0        0.0               0.0                 0.0   \n",
       "1149133        0.0        0.0               0.0                 0.0   \n",
       "\n",
       "         sin_dor_cabeca  si_dor_peito  sin_nausea  sin_nariz_entup  \\\n",
       "23                  0.0           0.0         0.0              0.0   \n",
       "52                  0.0           0.0         0.0              0.0   \n",
       "55                  0.0           0.0         0.0              0.0   \n",
       "158                 0.0           0.0         0.0              0.0   \n",
       "215                 1.0           1.0         1.0              1.0   \n",
       "...                 ...           ...         ...              ...   \n",
       "1149129             0.0           0.0         0.0              0.0   \n",
       "1149130             0.0           0.0         0.0              0.0   \n",
       "1149131             0.0           0.0         0.0              0.0   \n",
       "1149132             0.0           0.0         0.0              0.0   \n",
       "1149133             0.0           0.0         0.0              0.0   \n",
       "\n",
       "         sin_fadiga  sin_perda_olf  sin_dor_muscular  total_sintomas  \n",
       "23              0.0            0.0               0.0             0.0  \n",
       "52              0.0            0.0               0.0             0.0  \n",
       "55              0.0            0.0               0.0             0.0  \n",
       "158             0.0            0.0               0.0             0.0  \n",
       "215             1.0            0.0               1.0            10.0  \n",
       "...             ...            ...               ...             ...  \n",
       "1149129         0.0            0.0               0.0             0.0  \n",
       "1149130         0.0            0.0               0.0             0.0  \n",
       "1149131         0.0            0.0               0.0             0.0  \n",
       "1149132         0.0            0.0               0.0             0.0  \n",
       "1149133         0.0            0.0               0.0             0.0  \n",
       "\n",
       "[14450 rows x 12 columns]"
      ]
     },
     "execution_count": 49,
     "metadata": {},
     "output_type": "execute_result"
    }
   ],
   "source": [
    "df_sintomas"
   ]
  },
  {
   "cell_type": "code",
   "execution_count": 50,
   "id": "582fd57d",
   "metadata": {},
   "outputs": [],
   "source": [
    "conditions = [\n",
    "    (df_sintomas['total_sintomas'] == 0),\n",
    "    (df_sintomas['total_sintomas'] == 1),\n",
    "    (df_sintomas['total_sintomas'] == 2),\n",
    "    (df_sintomas['total_sintomas'] == 3),\n",
    "    (df_sintomas['total_sintomas'] > 3)\n",
    "    ]\n",
    "\n",
    "values = ['assintomático', '1 sintoma', '2 sintomas', '3 sintomas', '4 ou mais sintomas']\n",
    "\n",
    "df_sintomas['qtd_sintomas'] = np.select(conditions, values)"
   ]
  },
  {
   "cell_type": "code",
   "execution_count": 51,
   "id": "659d89d5",
   "metadata": {
    "scrolled": true
   },
   "outputs": [
    {
     "data": {
      "text/plain": [
       "assintomático         12378\n",
       "4 ou mais sintomas     1079\n",
       "1 sintoma               394\n",
       "2 sintomas              329\n",
       "3 sintomas              270\n",
       "Name: qtd_sintomas, dtype: int64"
      ]
     },
     "execution_count": 51,
     "metadata": {},
     "output_type": "execute_result"
    }
   ],
   "source": [
    "df_sintomas['qtd_sintomas'].value_counts()"
   ]
  },
  {
   "cell_type": "code",
   "execution_count": 52,
   "id": "2e2a2ae3",
   "metadata": {},
   "outputs": [
    {
     "data": {
      "image/png": "[encoded data removed]",
      "text/plain": [
       "<Figure size 864x576 with 1 Axes>"
      ]
     },
     "metadata": {
      "needs_background": "light"
     },
     "output_type": "display_data"
    }
   ],
   "source": [
    "\n",
    "plt.figure(figsize=(12, 8))\n",
    "ax = sns.countplot(df_sintomas['qtd_sintomas'], order = df_sintomas['qtd_sintomas'].value_counts(ascending=False).index)\n",
    "\n",
    "\n",
    "abs_values = df_sintomas['qtd_sintomas'].value_counts(ascending=False).values\n",
    "ax.bar_label(container=ax.containers[0], labels=abs_values)\n",
    "plt.title('Quantidade de Sintomas - Positivo Covid19')\n",
    "\n",
    "\n",
    "plt.show()"
   ]
  },
  {
   "cell_type": "code",
   "execution_count": 53,
   "id": "af85b257",
   "metadata": {},
   "outputs": [
    {
     "data": {
      "text/plain": [
       "assintomático         85.7\n",
       "4 ou mais sintomas     7.5\n",
       "1 sintoma              2.7\n",
       "2 sintomas             2.3\n",
       "3 sintomas             1.9\n",
       "Name: qtd_sintomas, dtype: float64"
      ]
     },
     "execution_count": 53,
     "metadata": {},
     "output_type": "execute_result"
    }
   ],
   "source": [
    "df_sintomas['qtd_sintomas'].value_counts(normalize=True).round(3)*100"
   ]
  },
  {
   "cell_type": "code",
   "execution_count": 54,
   "id": "2f4420df",
   "metadata": {},
   "outputs": [],
   "source": [
    "def gravidade_caso(row):\n",
    "    gravidade = ''\n",
    "    if row['sin_febre'] == \"Sim\" or row['sin_tosse'] == \"Sim\" or row['sin_dor_garganta'] == \"Sim\" or row['sin_dor_cabeca'] == \"Sim\" or row['sin_nausea'] == \"Sim\" or row['sin_nariz_entup'] == \"Sim\"or row['sin_fadiga'] == \"Sim\" or row['sin_perda_olf'] == \"Sim\" or row['sin_dor_muscular'] == \"Sim\":\n",
    "        gravidade = 'Leve'\n",
    "        \n",
    "    if row['sin_dific_respirar'] == \"Sim\" or row['si_dor_peito'] == \"Sim\":\n",
    "        gravidade = 'Grave'\n",
    "\n",
    "    if gravidade == '':\n",
    "        gravidade = 'Assintomático'\n",
    "    return gravidade"
   ]
  },
  {
   "cell_type": "code",
   "execution_count": 55,
   "id": "8a1871cd",
   "metadata": {},
   "outputs": [],
   "source": [
    "df_positivos['gravidade'] = df_positivos.apply(lambda row: gravidade_caso(row), axis=1)"
   ]
  },
  {
   "cell_type": "code",
   "execution_count": 56,
   "id": "33721148",
   "metadata": {},
   "outputs": [
    {
     "data": {
      "text/html": [
       "<div>\n",
       "<style scoped>\n",
       "    .dataframe tbody tr th:only-of-type {\n",
       "        vertical-align: middle;\n",
       "    }\n",
       "\n",
       "    .dataframe tbody tr th {\n",
       "        vertical-align: top;\n",
       "    }\n",
       "\n",
       "    .dataframe thead th {\n",
       "        text-align: right;\n",
       "    }\n",
       "</style>\n",
       "<table border=\"1\" class=\"dataframe\">\n",
       "  <thead>\n",
       "    <tr style=\"text-align: right;\">\n",
       "      <th></th>\n",
       "      <th>uf</th>\n",
       "      <th>idade</th>\n",
       "      <th>sexo</th>\n",
       "      <th>cor_raca</th>\n",
       "      <th>sin_febre</th>\n",
       "      <th>sin_tosse</th>\n",
       "      <th>sin_dor_garganta</th>\n",
       "      <th>sin_dific_respirar</th>\n",
       "      <th>sin_dor_cabeca</th>\n",
       "      <th>si_dor_peito</th>\n",
       "      <th>...</th>\n",
       "      <th>sin_nariz_entup</th>\n",
       "      <th>sin_fadiga</th>\n",
       "      <th>sin_perda_olf</th>\n",
       "      <th>sin_dor_muscular</th>\n",
       "      <th>resultado_teste</th>\n",
       "      <th>fez_isolamento</th>\n",
       "      <th>procurou_unid_saude</th>\n",
       "      <th>recebeu_aux</th>\n",
       "      <th>faixa_rendimento</th>\n",
       "      <th>gravidade</th>\n",
       "    </tr>\n",
       "  </thead>\n",
       "  <tbody>\n",
       "    <tr>\n",
       "      <th>23</th>\n",
       "      <td>Rondônia</td>\n",
       "      <td>36</td>\n",
       "      <td>Mulher</td>\n",
       "      <td>Parda</td>\n",
       "      <td>Não</td>\n",
       "      <td>Não</td>\n",
       "      <td>Não</td>\n",
       "      <td>Não</td>\n",
       "      <td>Não</td>\n",
       "      <td>Não</td>\n",
       "      <td>...</td>\n",
       "      <td>Não</td>\n",
       "      <td>Não</td>\n",
       "      <td>Não</td>\n",
       "      <td>Não</td>\n",
       "      <td>Positivo</td>\n",
       "      <td>Moderado</td>\n",
       "      <td>None</td>\n",
       "      <td>Não</td>\n",
       "      <td>NaN</td>\n",
       "      <td>Assintomático</td>\n",
       "    </tr>\n",
       "    <tr>\n",
       "      <th>52</th>\n",
       "      <td>Rondônia</td>\n",
       "      <td>28</td>\n",
       "      <td>Homem</td>\n",
       "      <td>Parda</td>\n",
       "      <td>Não</td>\n",
       "      <td>Não</td>\n",
       "      <td>Não</td>\n",
       "      <td>Não</td>\n",
       "      <td>Não</td>\n",
       "      <td>Não</td>\n",
       "      <td>...</td>\n",
       "      <td>Não</td>\n",
       "      <td>Não</td>\n",
       "      <td>Não</td>\n",
       "      <td>Não</td>\n",
       "      <td>Positivo</td>\n",
       "      <td>Moderado</td>\n",
       "      <td>None</td>\n",
       "      <td>Não</td>\n",
       "      <td>1.601 - 3.000</td>\n",
       "      <td>Assintomático</td>\n",
       "    </tr>\n",
       "    <tr>\n",
       "      <th>55</th>\n",
       "      <td>Rondônia</td>\n",
       "      <td>38</td>\n",
       "      <td>Mulher</td>\n",
       "      <td>Parda</td>\n",
       "      <td>Não</td>\n",
       "      <td>Não</td>\n",
       "      <td>Não</td>\n",
       "      <td>Não</td>\n",
       "      <td>Não</td>\n",
       "      <td>Não</td>\n",
       "      <td>...</td>\n",
       "      <td>Não</td>\n",
       "      <td>Não</td>\n",
       "      <td>Não</td>\n",
       "      <td>Não</td>\n",
       "      <td>Positivo</td>\n",
       "      <td>Moderado</td>\n",
       "      <td>None</td>\n",
       "      <td>Não</td>\n",
       "      <td>801 - 1.600</td>\n",
       "      <td>Assintomático</td>\n",
       "    </tr>\n",
       "    <tr>\n",
       "      <th>158</th>\n",
       "      <td>Rondônia</td>\n",
       "      <td>22</td>\n",
       "      <td>Homem</td>\n",
       "      <td>Parda</td>\n",
       "      <td>Não</td>\n",
       "      <td>Não</td>\n",
       "      <td>Não</td>\n",
       "      <td>Não</td>\n",
       "      <td>Não</td>\n",
       "      <td>Não</td>\n",
       "      <td>...</td>\n",
       "      <td>Não</td>\n",
       "      <td>Não</td>\n",
       "      <td>Não</td>\n",
       "      <td>Não</td>\n",
       "      <td>Positivo</td>\n",
       "      <td>Moderado</td>\n",
       "      <td>None</td>\n",
       "      <td>Não</td>\n",
       "      <td>1.601 - 3.000</td>\n",
       "      <td>Assintomático</td>\n",
       "    </tr>\n",
       "    <tr>\n",
       "      <th>215</th>\n",
       "      <td>Rondônia</td>\n",
       "      <td>39</td>\n",
       "      <td>Mulher</td>\n",
       "      <td>Branca</td>\n",
       "      <td>Sim</td>\n",
       "      <td>Sim</td>\n",
       "      <td>Sim</td>\n",
       "      <td>Sim</td>\n",
       "      <td>Sim</td>\n",
       "      <td>Sim</td>\n",
       "      <td>...</td>\n",
       "      <td>Sim</td>\n",
       "      <td>Sim</td>\n",
       "      <td>Não</td>\n",
       "      <td>Sim</td>\n",
       "      <td>Positivo</td>\n",
       "      <td>Não</td>\n",
       "      <td>Não</td>\n",
       "      <td>Não</td>\n",
       "      <td>801 - 1.600</td>\n",
       "      <td>Grave</td>\n",
       "    </tr>\n",
       "    <tr>\n",
       "      <th>...</th>\n",
       "      <td>...</td>\n",
       "      <td>...</td>\n",
       "      <td>...</td>\n",
       "      <td>...</td>\n",
       "      <td>...</td>\n",
       "      <td>...</td>\n",
       "      <td>...</td>\n",
       "      <td>...</td>\n",
       "      <td>...</td>\n",
       "      <td>...</td>\n",
       "      <td>...</td>\n",
       "      <td>...</td>\n",
       "      <td>...</td>\n",
       "      <td>...</td>\n",
       "      <td>...</td>\n",
       "      <td>...</td>\n",
       "      <td>...</td>\n",
       "      <td>...</td>\n",
       "      <td>...</td>\n",
       "      <td>...</td>\n",
       "      <td>...</td>\n",
       "    </tr>\n",
       "    <tr>\n",
       "      <th>1149129</th>\n",
       "      <td>Distrito Federal</td>\n",
       "      <td>33</td>\n",
       "      <td>Mulher</td>\n",
       "      <td>Branca</td>\n",
       "      <td>Não</td>\n",
       "      <td>Não</td>\n",
       "      <td>Não</td>\n",
       "      <td>Não</td>\n",
       "      <td>Não</td>\n",
       "      <td>Não</td>\n",
       "      <td>...</td>\n",
       "      <td>Não</td>\n",
       "      <td>Não</td>\n",
       "      <td>Não</td>\n",
       "      <td>Não</td>\n",
       "      <td>Positivo</td>\n",
       "      <td>Moderado</td>\n",
       "      <td>None</td>\n",
       "      <td>Não</td>\n",
       "      <td>3.001 - 10.000</td>\n",
       "      <td>Assintomático</td>\n",
       "    </tr>\n",
       "    <tr>\n",
       "      <th>1149130</th>\n",
       "      <td>Distrito Federal</td>\n",
       "      <td>38</td>\n",
       "      <td>Homem</td>\n",
       "      <td>Branca</td>\n",
       "      <td>Não</td>\n",
       "      <td>Não</td>\n",
       "      <td>Não</td>\n",
       "      <td>Não</td>\n",
       "      <td>Não</td>\n",
       "      <td>Não</td>\n",
       "      <td>...</td>\n",
       "      <td>Não</td>\n",
       "      <td>Não</td>\n",
       "      <td>Não</td>\n",
       "      <td>Não</td>\n",
       "      <td>Positivo</td>\n",
       "      <td>Moderado</td>\n",
       "      <td>None</td>\n",
       "      <td>Não</td>\n",
       "      <td>10.001 - 50.000</td>\n",
       "      <td>Assintomático</td>\n",
       "    </tr>\n",
       "    <tr>\n",
       "      <th>1149131</th>\n",
       "      <td>Distrito Federal</td>\n",
       "      <td>6</td>\n",
       "      <td>Mulher</td>\n",
       "      <td>Branca</td>\n",
       "      <td>Não</td>\n",
       "      <td>Não</td>\n",
       "      <td>Não</td>\n",
       "      <td>Não</td>\n",
       "      <td>Não</td>\n",
       "      <td>Não</td>\n",
       "      <td>...</td>\n",
       "      <td>Não</td>\n",
       "      <td>Não</td>\n",
       "      <td>Não</td>\n",
       "      <td>Não</td>\n",
       "      <td>Positivo</td>\n",
       "      <td>Sim</td>\n",
       "      <td>None</td>\n",
       "      <td>Não</td>\n",
       "      <td>NaN</td>\n",
       "      <td>Assintomático</td>\n",
       "    </tr>\n",
       "    <tr>\n",
       "      <th>1149132</th>\n",
       "      <td>Distrito Federal</td>\n",
       "      <td>3</td>\n",
       "      <td>Mulher</td>\n",
       "      <td>Branca</td>\n",
       "      <td>Não</td>\n",
       "      <td>Não</td>\n",
       "      <td>Não</td>\n",
       "      <td>Não</td>\n",
       "      <td>Não</td>\n",
       "      <td>Não</td>\n",
       "      <td>...</td>\n",
       "      <td>Não</td>\n",
       "      <td>Não</td>\n",
       "      <td>Não</td>\n",
       "      <td>Não</td>\n",
       "      <td>Positivo</td>\n",
       "      <td>Sim</td>\n",
       "      <td>None</td>\n",
       "      <td>Não</td>\n",
       "      <td>NaN</td>\n",
       "      <td>Assintomático</td>\n",
       "    </tr>\n",
       "    <tr>\n",
       "      <th>1149133</th>\n",
       "      <td>Distrito Federal</td>\n",
       "      <td>32</td>\n",
       "      <td>Mulher</td>\n",
       "      <td>Parda</td>\n",
       "      <td>Não</td>\n",
       "      <td>Não</td>\n",
       "      <td>Não</td>\n",
       "      <td>Não</td>\n",
       "      <td>Não</td>\n",
       "      <td>Não</td>\n",
       "      <td>...</td>\n",
       "      <td>Não</td>\n",
       "      <td>Não</td>\n",
       "      <td>Não</td>\n",
       "      <td>Não</td>\n",
       "      <td>Positivo</td>\n",
       "      <td>Sim</td>\n",
       "      <td>None</td>\n",
       "      <td>Não</td>\n",
       "      <td>801 - 1.600</td>\n",
       "      <td>Assintomático</td>\n",
       "    </tr>\n",
       "  </tbody>\n",
       "</table>\n",
       "<p>14450 rows × 21 columns</p>\n",
       "</div>"
      ],
      "text/plain": [
       "                       uf  idade    sexo cor_raca sin_febre sin_tosse  \\\n",
       "23               Rondônia     36  Mulher    Parda       Não       Não   \n",
       "52               Rondônia     28   Homem    Parda       Não       Não   \n",
       "55               Rondônia     38  Mulher    Parda       Não       Não   \n",
       "158              Rondônia     22   Homem    Parda       Não       Não   \n",
       "215              Rondônia     39  Mulher   Branca       Sim       Sim   \n",
       "...                   ...    ...     ...      ...       ...       ...   \n",
       "1149129  Distrito Federal     33  Mulher   Branca       Não       Não   \n",
       "1149130  Distrito Federal     38   Homem   Branca       Não       Não   \n",
       "1149131  Distrito Federal      6  Mulher   Branca       Não       Não   \n",
       "1149132  Distrito Federal      3  Mulher   Branca       Não       Não   \n",
       "1149133  Distrito Federal     32  Mulher    Parda       Não       Não   \n",
       "\n",
       "        sin_dor_garganta sin_dific_respirar sin_dor_cabeca si_dor_peito  ...  \\\n",
       "23                   Não                Não            Não          Não  ...   \n",
       "52                   Não                Não            Não          Não  ...   \n",
       "55                   Não                Não            Não          Não  ...   \n",
       "158                  Não                Não            Não          Não  ...   \n",
       "215                  Sim                Sim            Sim          Sim  ...   \n",
       "...                  ...                ...            ...          ...  ...   \n",
       "1149129              Não                Não            Não          Não  ...   \n",
       "1149130              Não                Não            Não          Não  ...   \n",
       "1149131              Não                Não            Não          Não  ...   \n",
       "1149132              Não                Não            Não          Não  ...   \n",
       "1149133              Não                Não            Não          Não  ...   \n",
       "\n",
       "        sin_nariz_entup sin_fadiga sin_perda_olf sin_dor_muscular  \\\n",
       "23                  Não        Não           Não              Não   \n",
       "52                  Não        Não           Não              Não   \n",
       "55                  Não        Não           Não              Não   \n",
       "158                 Não        Não           Não              Não   \n",
       "215                 Sim        Sim           Não              Sim   \n",
       "...                 ...        ...           ...              ...   \n",
       "1149129             Não        Não           Não              Não   \n",
       "1149130             Não        Não           Não              Não   \n",
       "1149131             Não        Não           Não              Não   \n",
       "1149132             Não        Não           Não              Não   \n",
       "1149133             Não        Não           Não              Não   \n",
       "\n",
       "        resultado_teste fez_isolamento procurou_unid_saude recebeu_aux  \\\n",
       "23             Positivo       Moderado                None         Não   \n",
       "52             Positivo       Moderado                None         Não   \n",
       "55             Positivo       Moderado                None         Não   \n",
       "158            Positivo       Moderado                None         Não   \n",
       "215            Positivo            Não                 Não         Não   \n",
       "...                 ...            ...                 ...         ...   \n",
       "1149129        Positivo       Moderado                None         Não   \n",
       "1149130        Positivo       Moderado                None         Não   \n",
       "1149131        Positivo            Sim                None         Não   \n",
       "1149132        Positivo            Sim                None         Não   \n",
       "1149133        Positivo            Sim                None         Não   \n",
       "\n",
       "        faixa_rendimento      gravidade  \n",
       "23                   NaN  Assintomático  \n",
       "52         1.601 - 3.000  Assintomático  \n",
       "55           801 - 1.600  Assintomático  \n",
       "158        1.601 - 3.000  Assintomático  \n",
       "215          801 - 1.600          Grave  \n",
       "...                  ...            ...  \n",
       "1149129   3.001 - 10.000  Assintomático  \n",
       "1149130  10.001 - 50.000  Assintomático  \n",
       "1149131              NaN  Assintomático  \n",
       "1149132              NaN  Assintomático  \n",
       "1149133      801 - 1.600  Assintomático  \n",
       "\n",
       "[14450 rows x 21 columns]"
      ]
     },
     "execution_count": 56,
     "metadata": {},
     "output_type": "execute_result"
    }
   ],
   "source": [
    "df_positivos"
   ]
  },
  {
   "cell_type": "code",
   "execution_count": 57,
   "id": "f31d35a3",
   "metadata": {},
   "outputs": [
    {
     "data": {
      "image/png": "[encoded data removed]",
      "text/plain": [
       "<Figure size 864x576 with 1 Axes>"
      ]
     },
     "metadata": {
      "needs_background": "light"
     },
     "output_type": "display_data"
    }
   ],
   "source": [
    "\n",
    "plt.figure(figsize=(12, 8))\n",
    "ax = sns.countplot(df_positivos['gravidade'], order = df_positivos['gravidade'].value_counts(ascending=False).index)\n",
    "\n",
    "\n",
    "abs_values = df_positivos['gravidade'].value_counts(ascending=False).values\n",
    "ax.bar_label(container=ax.containers[0], labels=abs_values)\n",
    "plt.title('Gravidade dos sintomas - Teste Positivo Covid19')\n",
    "\n",
    "\n",
    "plt.show()"
   ]
  },
  {
   "cell_type": "code",
   "execution_count": 58,
   "id": "297f4737",
   "metadata": {},
   "outputs": [],
   "source": [
    "df_assintomatico = df_positivos[df_positivos['gravidade'] == \"Assintomático\"]"
   ]
  },
  {
   "cell_type": "code",
   "execution_count": 59,
   "id": "e5ccae91",
   "metadata": {},
   "outputs": [
    {
     "data": {
      "image/png": "[encoded data removed]",
      "text/plain": [
       "<Figure size 864x576 with 1 Axes>"
      ]
     },
     "metadata": {
      "needs_background": "light"
     },
     "output_type": "display_data"
    }
   ],
   "source": [
    "\n",
    "plt.figure(figsize=(12, 8))\n",
    "ax = sns.countplot(df_assintomatico['fez_isolamento'], order = df_assintomatico['fez_isolamento'].value_counts(ascending=False).index)\n",
    "\n",
    "\n",
    "abs_values = df_assintomatico['fez_isolamento'].value_counts(ascending=False).values\n",
    "ax.bar_label(container=ax.containers[0], labels=abs_values)\n",
    "plt.title('Restrição de contato - Indivíduo Assintomático Positivo Covid19')\n",
    "\n",
    "\n",
    "plt.show()"
   ]
  },
  {
   "cell_type": "code",
   "execution_count": 60,
   "id": "c1eef19d",
   "metadata": {},
   "outputs": [],
   "source": [
    "df_negativos = df_trabalho[df_trabalho[\"resultado_teste\"] == \"Negativo\"]"
   ]
  },
  {
   "cell_type": "code",
   "execution_count": 61,
   "id": "578076d2",
   "metadata": {},
   "outputs": [],
   "source": [
    "df_negativos['gravidade'] = df_negativos.apply(lambda row: gravidade_caso(row), axis=1)"
   ]
  },
  {
   "cell_type": "code",
   "execution_count": 62,
   "id": "d75561f9",
   "metadata": {},
   "outputs": [
    {
     "data": {
      "image/png": "[encoded data removed]",
      "text/plain": [
       "<Figure size 864x576 with 1 Axes>"
      ]
     },
     "metadata": {
      "needs_background": "light"
     },
     "output_type": "display_data"
    }
   ],
   "source": [
    "plt.figure(figsize=(12, 8))\n",
    "ax = sns.countplot(df_negativos['gravidade'], order = df_negativos['gravidade'].value_counts(ascending=False).index)\n",
    "\n",
    "\n",
    "abs_values = df_negativos['gravidade'].value_counts(ascending=False).values\n",
    "ax.bar_label(container=ax.containers[0], labels=abs_values)\n",
    "plt.title('Gravidade dos sintomas - Teste Negativo Covid19')\n",
    "\n",
    "\n",
    "plt.show()"
   ]
  },
  {
   "cell_type": "code",
   "execution_count": null,
   "id": "5801bc1c",
   "metadata": {},
   "outputs": [],
   "source": []
  },
  {
   "cell_type": "code",
   "execution_count": null,
   "id": "d3999925",
   "metadata": {},
   "outputs": [],
   "source": []
  },
  {
   "cell_type": "code",
   "execution_count": null,
   "id": "6f2e88f6",
   "metadata": {},
   "outputs": [],
   "source": []
  },
  {
   "cell_type": "code",
   "execution_count": null,
   "id": "ba8feccc",
   "metadata": {},
   "outputs": [],
   "source": []
  },
  {
   "cell_type": "code",
   "execution_count": null,
   "id": "3b0ffe77",
   "metadata": {},
   "outputs": [],
   "source": []
  },
  {
   "cell_type": "code",
   "execution_count": null,
   "id": "41379cad",
   "metadata": {},
   "outputs": [],
   "source": []
  }
 ],
 "metadata": {
  "kernelspec": {
   "display_name": "Python 3 (ipykernel)",
   "language": "python",
   "name": "python3"
  },
  "language_info": {
   "codemirror_mode": {
    "name": "ipython",
    "version": 3
   },
   "file_extension": ".py",
   "mimetype": "text/x-python",
   "name": "python",
   "nbconvert_exporter": "python",
   "pygments_lexer": "ipython3",
   "version": "3.9.12"
  }
 },
 "nbformat": 4,
 "nbformat_minor": 5
}
